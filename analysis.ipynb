{
 "cells": [
  {
   "cell_type": "markdown",
   "metadata": {},
   "source": [
    "<a id=\"top\"></a>\n",
    "# Starbucks Capstone Challenge\n",
    "\n",
    "## Overview\n",
    "\n",
    "This data set contains simulated data that mimics customer behavior on the Starbucks rewards mobile app. Once every few days, Starbucks sends out an offer to users of the mobile app. An offer can be merely an advertisement for a drink or an actual offer such as a discount or BOGO (buy one get one free). Some users might not receive any offer during certain weeks. \n",
    "\n",
    "Not all users receive the same offer, and that is the challenge to solve with this data set.\n",
    "\n",
    "The task is to combine transaction, demographic and offer data to determine which demographic groups respond best to which offer type. This data set is a simplified version of the real Starbucks app because the underlying simulator only has one product whereas Starbucks actually sells dozens of products.\n",
    "\n",
    "Every offer has a validity period before the offer expires. As an example, a BOGO offer might be valid for only 5 days. You'll see in the data set that informational offers have a validity period even though these ads are merely providing information about a product; for example, if an informational offer has 7 days of validity, you can assume the customer is feeling the influence of the offer for 7 days after receiving the advertisement.\n",
    "\n",
    "Transactional data shows user purchases made on the app including the timestamp of purchase and the amount of money spent on a purchase. It also has a record for each offer that a user receives as well as a record for when a user actually views the offer. There are also records for when a user completes an offer. \n",
    "\n",
    "Keep in mind as well that someone using the app might make a purchase through the app without having received an offer or seen an offer.\n",
    "\n",
    "#### Example\n",
    "\n",
    "To give an example, a user could receive a discount offer buy 10 dollars get 2 off on Monday. The offer is valid for 10 days from receipt. If the customer accumulates at least 10 dollars in purchases during the validity period, the customer completes the offer.\n",
    "\n",
    "However, there are a few things to watch out for in this data set. Customers do not opt into the offers that they receive; in other words, a user can receive an offer, never actually view the offer, and still complete the offer. For example, a user might receive the \"buy 10 dollars get 2 dollars off offer\", but the user never opens the offer during the 10 day validity period. The customer spends 15 dollars during those ten days. There will be an offer completion record in the data set; however, the customer was not influenced by the offer because the customer never viewed the offer.\n",
    "\n",
    "#### Tips\n",
    "\n",
    "Take into account that some demographic groups will make purchases even if they don't receive an offer. From a business perspective, if a customer is going to make a 10 dollar purchase without an offer anyway, you wouldn't want to send a buy 10 dollars get 2 dollars off offer. Therefore, try to assess what a certain demographic group will buy when not receiving any offers."
   ]
  },
  {
   "cell_type": "markdown",
   "metadata": {},
   "source": [
    "## Objectives"
   ]
  },
  {
   "cell_type": "markdown",
   "metadata": {},
   "source": [
    "In this notebook, I will develop heurisitics to determine which offer should be sent and how spends vary across customers with demographics.\n",
    "\n",
    "Based on the findings, two machine learning models will be built:\n",
    "- a classification model to predict whether or not a customer will respond to an offer\n",
    "- a regression model to predict spends of customers based on demographics and offer type"
   ]
  },
  {
   "cell_type": "markdown",
   "metadata": {},
   "source": [
    "## Data Sets\n",
    "\n",
    "The data is contained in three files:\n",
    "\n",
    "* portfolio.json - containing offer ids and meta data about each offer (duration, type, etc.)\n",
    "* profile.json - demographic data for each customer\n",
    "* transcript.json - records for transactions, offers received, offers viewed, and offers completed\n",
    "\n",
    "Here is the schema and explanation of each variable in the files:\n",
    "\n",
    "**portfolio.json**\n",
    "* id (string) - offer id\n",
    "* offer_type (string) - type of offer ie BOGO, discount, informational\n",
    "* difficulty (int) - minimum required spend to complete an offer\n",
    "* reward (int) - reward given for completing an offer\n",
    "* duration (int) - time for offer to be open, in days\n",
    "* channels (list of strings)\n",
    "\n",
    "**profile.json**\n",
    "* age (int) - age of the customer \n",
    "* became_member_on (int) - date when customer created an app account\n",
    "* gender (str) - gender of the customer (note some entries contain 'O' for other rather than M or F)\n",
    "* id (str) - customer id\n",
    "* income (float) - customer's income\n",
    "\n",
    "**transcript.json**\n",
    "* event (str) - record description (ie transaction, offer received, offer viewed, etc.)\n",
    "* person (str) - customer id\n",
    "* time (int) - time in hours since start of test. The data begins at time t=0\n",
    "* value - (dict of strings) - either an offer id or transaction amount depending on the record"
   ]
  },
  {
   "cell_type": "markdown",
   "metadata": {},
   "source": [
    "## Load packages"
   ]
  },
  {
   "cell_type": "code",
   "execution_count": 1,
   "metadata": {},
   "outputs": [],
   "source": [
    "# data analysis\n",
    "import pandas as pd\n",
    "import numpy as np\n",
    "import matplotlib.pyplot as plt\n",
    "from matplotlib import colors\n",
    "import seaborn as sns\n",
    "import math\n",
    "\n",
    "# utils\n",
    "import os\n",
    "import json\n",
    "import pickle\n",
    "from tqdm import tqdm \n",
    "import datetime\n",
    "\n",
    "%matplotlib inline"
   ]
  },
  {
   "cell_type": "code",
   "execution_count": 2,
   "metadata": {},
   "outputs": [],
   "source": [
    "# Check if xgboost package exists\n",
    "# or install it \n",
    "try:\n",
    "    import xgboost\n",
    "except ImportError as e:\n",
    "    !pip install xgboost"
   ]
  },
  {
   "cell_type": "code",
   "execution_count": 3,
   "metadata": {},
   "outputs": [],
   "source": [
    "# modeling \n",
    "from sklearn.linear_model import LogisticRegression\n",
    "from sklearn.svm import SVC\n",
    "from sklearn.tree import DecisionTreeClassifier\n",
    "from sklearn.ensemble import RandomForestClassifier, GradientBoostingClassifier\n",
    "from xgboost import XGBClassifier\n",
    "from sklearn.preprocessing import StandardScaler\n",
    "from sklearn.model_selection import train_test_split, GridSearchCV, RandomizedSearchCV\n",
    "from sklearn.pipeline import Pipeline\n",
    "from sklearn.metrics import accuracy_score, classification_report, confusion_matrix"
   ]
  },
  {
   "cell_type": "code",
   "execution_count": 4,
   "metadata": {},
   "outputs": [
    {
     "name": "stdout",
     "output_type": "stream",
     "text": [
      "0.9.0\n"
     ]
    }
   ],
   "source": [
    "# Oversampling & undersampling\n",
    "import imblearn\n",
    "from imblearn.over_sampling import SMOTE\n",
    "from imblearn.under_sampling import NearMiss\n",
    "from collections import Counter\n",
    "print(imblearn.__version__)"
   ]
  },
  {
   "cell_type": "markdown",
   "metadata": {
    "tags": []
   },
   "source": [
    "# Table of contents\n",
    "\n",
    "This project is divided into two Jupyter Notebooks.\n",
    "\n",
    "- wrangling.ipynb\n",
    "- analysis.ipynb\n",
    "\n",
    "This notebook (`analysis.ipynb`) starts continues the data wrangling works that can be found in `wrangling.ipynb`."
   ]
  },
  {
   "cell_type": "markdown",
   "metadata": {},
   "source": [
    "3. Explore data: Part1 [link](#explore-part1) <- to skip data cleaning\n",
    "4. Explore data: Part2 [link](#explore-part2)\n",
    "5. Feature engineering [link](#feature)\n",
    "6. Modeling [link](#model)\n",
    "7. Build the final model [link](#final)\n",
    "8. Conclusion [link](#conclude)"
   ]
  },
  {
   "cell_type": "markdown",
   "metadata": {
    "tags": []
   },
   "source": [
    "---\n",
    "<a id=\"explore-part1\"></a>\n",
    "## SECTION 3 Explore data : Part 1\n",
    "\n",
    "Here we explore the individual dataset first. In the next section (Part2) we will continue the analysis with the merged dataset. "
   ]
  },
  {
   "cell_type": "code",
   "execution_count": 117,
   "metadata": {},
   "outputs": [],
   "source": [
    "# Load the clean dataset\n",
    "portfolio = pd.read_csv('data/portfolio_clean.csv')\n",
    "profile = pd.read_csv('data/profile_clean.csv')\n",
    "transcript = pd.read_csv('data/transcript_clean.csv')\n",
    "transaction = pd.read_csv('data/transactions_pivoted.csv')"
   ]
  },
  {
   "cell_type": "code",
   "execution_count": 118,
   "metadata": {},
   "outputs": [
    {
     "data": {
      "text/html": [
       "<div>\n",
       "<style scoped>\n",
       "    .dataframe tbody tr th:only-of-type {\n",
       "        vertical-align: middle;\n",
       "    }\n",
       "\n",
       "    .dataframe tbody tr th {\n",
       "        vertical-align: top;\n",
       "    }\n",
       "\n",
       "    .dataframe thead th {\n",
       "        text-align: right;\n",
       "    }\n",
       "</style>\n",
       "<table border=\"1\" class=\"dataframe\">\n",
       "  <thead>\n",
       "    <tr style=\"text-align: right;\">\n",
       "      <th></th>\n",
       "      <th>reward</th>\n",
       "      <th>difficulty</th>\n",
       "      <th>duration</th>\n",
       "      <th>offer_type</th>\n",
       "      <th>id</th>\n",
       "      <th>web</th>\n",
       "      <th>email</th>\n",
       "      <th>social</th>\n",
       "      <th>mobile</th>\n",
       "    </tr>\n",
       "  </thead>\n",
       "  <tbody>\n",
       "    <tr>\n",
       "      <th>0</th>\n",
       "      <td>10</td>\n",
       "      <td>10</td>\n",
       "      <td>7</td>\n",
       "      <td>bogo</td>\n",
       "      <td>ae264e3637204a6fb9bb56bc8210ddfd</td>\n",
       "      <td>0</td>\n",
       "      <td>1</td>\n",
       "      <td>1</td>\n",
       "      <td>1</td>\n",
       "    </tr>\n",
       "    <tr>\n",
       "      <th>1</th>\n",
       "      <td>10</td>\n",
       "      <td>10</td>\n",
       "      <td>5</td>\n",
       "      <td>bogo</td>\n",
       "      <td>4d5c57ea9a6940dd891ad53e9dbe8da0</td>\n",
       "      <td>1</td>\n",
       "      <td>1</td>\n",
       "      <td>1</td>\n",
       "      <td>1</td>\n",
       "    </tr>\n",
       "    <tr>\n",
       "      <th>2</th>\n",
       "      <td>0</td>\n",
       "      <td>0</td>\n",
       "      <td>4</td>\n",
       "      <td>informational</td>\n",
       "      <td>3f207df678b143eea3cee63160fa8bed</td>\n",
       "      <td>1</td>\n",
       "      <td>1</td>\n",
       "      <td>0</td>\n",
       "      <td>1</td>\n",
       "    </tr>\n",
       "    <tr>\n",
       "      <th>3</th>\n",
       "      <td>5</td>\n",
       "      <td>5</td>\n",
       "      <td>7</td>\n",
       "      <td>bogo</td>\n",
       "      <td>9b98b8c7a33c4b65b9aebfe6a799e6d9</td>\n",
       "      <td>1</td>\n",
       "      <td>1</td>\n",
       "      <td>0</td>\n",
       "      <td>1</td>\n",
       "    </tr>\n",
       "    <tr>\n",
       "      <th>4</th>\n",
       "      <td>5</td>\n",
       "      <td>20</td>\n",
       "      <td>10</td>\n",
       "      <td>discount</td>\n",
       "      <td>0b1e1539f2cc45b7b9fa7c272da2e1d7</td>\n",
       "      <td>1</td>\n",
       "      <td>1</td>\n",
       "      <td>0</td>\n",
       "      <td>0</td>\n",
       "    </tr>\n",
       "  </tbody>\n",
       "</table>\n",
       "</div>"
      ],
      "text/plain": [
       "   reward  difficulty  duration     offer_type  \\\n",
       "0      10          10         7           bogo   \n",
       "1      10          10         5           bogo   \n",
       "2       0           0         4  informational   \n",
       "3       5           5         7           bogo   \n",
       "4       5          20        10       discount   \n",
       "\n",
       "                                 id  web  email  social  mobile  \n",
       "0  ae264e3637204a6fb9bb56bc8210ddfd    0      1       1       1  \n",
       "1  4d5c57ea9a6940dd891ad53e9dbe8da0    1      1       1       1  \n",
       "2  3f207df678b143eea3cee63160fa8bed    1      1       0       1  \n",
       "3  9b98b8c7a33c4b65b9aebfe6a799e6d9    1      1       0       1  \n",
       "4  0b1e1539f2cc45b7b9fa7c272da2e1d7    1      1       0       0  "
      ]
     },
     "execution_count": 118,
     "metadata": {},
     "output_type": "execute_result"
    }
   ],
   "source": [
    "portfolio.head()"
   ]
  },
  {
   "cell_type": "markdown",
   "metadata": {},
   "source": [
    "### 3a. Offer types and channels"
   ]
  },
  {
   "cell_type": "code",
   "execution_count": 119,
   "metadata": {},
   "outputs": [
    {
     "data": {
      "image/png": "[encoded data removed]",
      "text/plain": [
       "<Figure size 864x360 with 4 Axes>"
      ]
     },
     "metadata": {
      "needs_background": "light"
     },
     "output_type": "display_data"
    }
   ],
   "source": [
    "fig, (ax1, ax2) = plt.subplots(1,2, figsize=(12,5))\n",
    "\n",
    "sns.heatmap(portfolio.iloc[:, :4].groupby('offer_type').mean(), \n",
    "            annot=True, fmt='.2f', square=True, cmap='Blues', ax=ax1);\n",
    "sns.heatmap(portfolio.iloc[:, 3:].groupby('offer_type').mean(), \n",
    "            annot=True, fmt='.2f', cmap='Greens', ax=ax2);\n",
    "\n",
    "ax1.set(title ='How does each offer type look?', xlabel='', ylabel='');\n",
    "ax2.set(title ='Which channel does each offer use?\\n(0: not at all - 1: always)',\n",
    "        xlabel='', ylabel='')\n",
    "\n",
    "plt.tight_layout()\n",
    "\n",
    "# Save figure\n",
    "plt.show()"
   ]
  },
  {
   "cell_type": "markdown",
   "metadata": {},
   "source": [
    "#### Offers\n",
    "- **discount** offer requires the highest spends to redeem (the most difficult) with the longest duration - longest engagment with customers. \n",
    "- **bogo** offer gives the most rewards with comparatively lower spends requred - as the name (Buy One Get One For Free) suggests.\n",
    "- **informational** offer does not require reward and spends.\n",
    "\n",
    "\n",
    "#### Channels\n",
    "Regardless of offer type, **email** is always used when communicating the offer. **bogo** uses all four channels more intensively. The analysis will be more meaningful when offer type is explored together with customer profile and transction data, which will be done later after mering the dataset."
   ]
  },
  {
   "cell_type": "markdown",
   "metadata": {},
   "source": [
    "## 3b.  Demographics"
   ]
  },
  {
   "cell_type": "code",
   "execution_count": 120,
   "metadata": {},
   "outputs": [
    {
     "data": {
      "text/html": [
       "<div>\n",
       "<style scoped>\n",
       "    .dataframe tbody tr th:only-of-type {\n",
       "        vertical-align: middle;\n",
       "    }\n",
       "\n",
       "    .dataframe tbody tr th {\n",
       "        vertical-align: top;\n",
       "    }\n",
       "\n",
       "    .dataframe thead th {\n",
       "        text-align: right;\n",
       "    }\n",
       "</style>\n",
       "<table border=\"1\" class=\"dataframe\">\n",
       "  <thead>\n",
       "    <tr style=\"text-align: right;\">\n",
       "      <th></th>\n",
       "      <th>gender</th>\n",
       "      <th>age</th>\n",
       "      <th>id</th>\n",
       "      <th>became_member_on</th>\n",
       "      <th>income</th>\n",
       "    </tr>\n",
       "  </thead>\n",
       "  <tbody>\n",
       "    <tr>\n",
       "      <th>0</th>\n",
       "      <td>F</td>\n",
       "      <td>55</td>\n",
       "      <td>0610b486422d4921ae7d2bf64640c50b</td>\n",
       "      <td>2017-07-15</td>\n",
       "      <td>112000.0</td>\n",
       "    </tr>\n",
       "    <tr>\n",
       "      <th>1</th>\n",
       "      <td>F</td>\n",
       "      <td>75</td>\n",
       "      <td>78afa995795e4d85b5d9ceeca43f5fef</td>\n",
       "      <td>2017-05-09</td>\n",
       "      <td>100000.0</td>\n",
       "    </tr>\n",
       "    <tr>\n",
       "      <th>2</th>\n",
       "      <td>M</td>\n",
       "      <td>68</td>\n",
       "      <td>e2127556f4f64592b11af22de27a7932</td>\n",
       "      <td>2018-04-26</td>\n",
       "      <td>70000.0</td>\n",
       "    </tr>\n",
       "    <tr>\n",
       "      <th>3</th>\n",
       "      <td>M</td>\n",
       "      <td>65</td>\n",
       "      <td>389bc3fa690240e798340f5a15918d5c</td>\n",
       "      <td>2018-02-09</td>\n",
       "      <td>53000.0</td>\n",
       "    </tr>\n",
       "    <tr>\n",
       "      <th>4</th>\n",
       "      <td>M</td>\n",
       "      <td>58</td>\n",
       "      <td>2eeac8d8feae4a8cad5a6af0499a211d</td>\n",
       "      <td>2017-11-11</td>\n",
       "      <td>51000.0</td>\n",
       "    </tr>\n",
       "  </tbody>\n",
       "</table>\n",
       "</div>"
      ],
      "text/plain": [
       "  gender  age                                id became_member_on    income\n",
       "0      F   55  0610b486422d4921ae7d2bf64640c50b       2017-07-15  112000.0\n",
       "1      F   75  78afa995795e4d85b5d9ceeca43f5fef       2017-05-09  100000.0\n",
       "2      M   68  e2127556f4f64592b11af22de27a7932       2018-04-26   70000.0\n",
       "3      M   65  389bc3fa690240e798340f5a15918d5c       2018-02-09   53000.0\n",
       "4      M   58  2eeac8d8feae4a8cad5a6af0499a211d       2017-11-11   51000.0"
      ]
     },
     "execution_count": 120,
     "metadata": {},
     "output_type": "execute_result"
    }
   ],
   "source": [
    "profile['became_member_on'] = pd.to_datetime(profile['became_member_on'])\n",
    "profile.head()"
   ]
  },
  {
   "cell_type": "code",
   "execution_count": 121,
   "metadata": {},
   "outputs": [
    {
     "data": {
      "image/png": "[encoded data removed]",
      "text/plain": [
       "<Figure size 1152x576 with 4 Axes>"
      ]
     },
     "metadata": {
      "needs_background": "light"
     },
     "output_type": "display_data"
    }
   ],
   "source": [
    "base_colors = sns.color_palette()[:4]\n",
    "\n",
    "fig, axes = plt.subplots(2, 2, figsize=(16,8))\n",
    "\n",
    "fig1 = sns.countplot(x=profile.gender, color=base_colors[0], ax=axes[0,0])\n",
    "fig2 = sns.countplot(x=profile.became_member_on.dt.year, color=base_colors[1], ax=axes[0,1])\n",
    "fig3 = sns.histplot(x=profile.age, color=base_colors[2], kde=True, element='step', ax=axes[1,0])\n",
    "fig4 = sns.histplot(x=profile.income, color=base_colors[3], kde=True, element='step', ax=axes[1,1])\n",
    "\n",
    "fig1.set(title='Count by gender', xlabel='', ylabel='')\n",
    "fig2.set(title='New customers by years', xlabel='', ylabel='')\n",
    "fig3.set(title='Age distribution of members', xlabel='', ylabel='')\n",
    "fig4.set(title='Income distribution of members\\n(unit: US dollars)', xlabel='', ylabel='')\n",
    "\n",
    "plt.tight_layout(pad=3.5)\n",
    "plt.show()"
   ]
  },
  {
   "cell_type": "markdown",
   "metadata": {},
   "source": [
    "**Gender:** slightly more male respondants (57%) than female while others exist. \n",
    "\n",
    "**New customers:** The growth of new customer base is increasing assuming other factors, such as total annual visitor volume, are consistent. \n",
    "\n",
    "**Age:** The minimum age is 18 which may be due to age restriction for members. With the median of 55, 50% of the members fall into between 42 and 66. Although trivial, some members are above 100, which may be correct but likely caused by survey error.\n",
    "\n",
    "**Income:** Median income is $64,000. The distribution is skewed to the right which seems natural for income distribution."
   ]
  },
  {
   "cell_type": "markdown",
   "metadata": {},
   "source": [
    "## 3c. Offer completion\n",
    "Using the cleaned, pivoted dataframe saved in `transaction_pivoted.csv`"
   ]
  },
  {
   "cell_type": "code",
   "execution_count": 122,
   "metadata": {},
   "outputs": [
    {
     "name": "stdout",
     "output_type": "stream",
     "text": [
      "Number of unique customers:  17000\n",
      "Number of unique offer types:  10\n"
     ]
    }
   ],
   "source": [
    "print('Number of unique customers: ', transaction.person.nunique())\n",
    "print('Number of unique offer types: ', transaction.offer_id.nunique())"
   ]
  },
  {
   "cell_type": "markdown",
   "metadata": {},
   "source": [
    "The number of total record is 169940, which I interpret as the total mix of possible transactions. "
   ]
  },
  {
   "cell_type": "code",
   "execution_count": 123,
   "metadata": {},
   "outputs": [],
   "source": [
    "# Map label number to name\n",
    "\n",
    "label_num_to_name = {1: 'complete', 2: 'inactive', 3: 'active', 4: 'indifferent', 5: 'not received'}\n",
    "transaction['label_descr'] = transaction['label'].map(label_num_to_name)"
   ]
  },
  {
   "cell_type": "code",
   "execution_count": 124,
   "metadata": {},
   "outputs": [
    {
     "data": {
      "image/png": "[encoded data removed]",
      "text/plain": [
       "<Figure size 432x288 with 1 Axes>"
      ]
     },
     "metadata": {
      "needs_background": "light"
     },
     "output_type": "display_data"
    }
   ],
   "source": [
    "# Set color for the plots\n",
    "\n",
    "label_order = label_num_to_name.values()\n",
    "fig = sns.countplot(x=transaction.label_descr, palette=\"rocket\", order=label_order);\n",
    "fig.set(title='Counts by Label', xlabel='label type', ylabel='count');\n",
    "plt.xticks()\n",
    "plt.show()"
   ]
  },
  {
   "cell_type": "code",
   "execution_count": 125,
   "metadata": {},
   "outputs": [
    {
     "data": {
      "text/plain": [
       "not received    0.627718\n",
       "complete        0.176829\n",
       "inactive        0.090388\n",
       "indifferent     0.056571\n",
       "active          0.048494\n",
       "Name: label_descr, dtype: float64"
      ]
     },
     "execution_count": 125,
     "metadata": {},
     "output_type": "execute_result"
    }
   ],
   "source": [
    "# Proportions of each label\n",
    "\n",
    "transaction['label_descr'].value_counts() / transaction.shape[0]"
   ]
  },
  {
   "cell_type": "markdown",
   "metadata": {
    "tags": []
   },
   "source": [
    "17000 unique customers and 10 unique offers are represented in this dataset, which gives 170,000 mix of offers . Around 63% offers are `unsent` (label 5), most likely because\n",
    "- offers were not relevant for customers\n",
    "- opportunities were misinterpreted and missed"
   ]
  },
  {
   "cell_type": "code",
   "execution_count": 126,
   "metadata": {},
   "outputs": [
    {
     "data": {
      "text/plain": [
       "complete       0.474987\n",
       "inactive       0.242795\n",
       "indifferent    0.151956\n",
       "active         0.130262\n",
       "Name: label_descr, dtype: float64"
      ]
     },
     "execution_count": 126,
     "metadata": {},
     "output_type": "execute_result"
    }
   ],
   "source": [
    "count_total_sent = transaction.loc[transaction.label != 5, 'label'].shape[0]\n",
    "transaction.loc[transaction.label != 5, 'label_descr'].value_counts() / count_total_sent"
   ]
  },
  {
   "cell_type": "markdown",
   "metadata": {},
   "source": [
    "Among those offers that were sent, over 47% led to the completion. In other words, either offer led to purchase or offer is information and viewed. Additionally,\n",
    "\n",
    "- 24% of customers viewed offers but not redeemed\n",
    "- 15%  were not responsive to the offer\n",
    "- 13% (purchased without viewing"
   ]
  },
  {
   "cell_type": "code",
   "execution_count": 127,
   "metadata": {},
   "outputs": [
    {
     "name": "stdout",
     "output_type": "stream",
     "text": [
      "# informational offers: 34000\n",
      "# transactional offers: 136000\n"
     ]
    },
    {
     "data": {
      "image/png": "[encoded data removed]",
      "text/plain": [
       "<Figure size 1152x360 with 2 Axes>"
      ]
     },
     "metadata": {
      "needs_background": "light"
     },
     "output_type": "display_data"
    }
   ],
   "source": [
    "# Get subset data for informational and transactional offers\n",
    "\n",
    "info_offer_ids = portfolio.loc[portfolio['offer_type'] == 'informational', 'id'].to_list()\n",
    "\n",
    "offer_informational = transaction[transaction['offer_id'].isin(info_offer_ids)]\n",
    "offer_transactional = transaction[~transaction['offer_id'].isin(info_offer_ids)]\n",
    "\n",
    "print('# informational offers:', len(offer_informational))\n",
    "print('# transactional offers:', len(offer_transactional))\n",
    "\n",
    "# Visualization\n",
    "fig, (ax1, ax2) = plt.subplots(1,2, figsize=(16,5), sharey=True)\n",
    "\n",
    "# Set order for plots\n",
    "\n",
    "label_order = label_num_to_name.values()\n",
    "fig1 = sns.countplot(x=offer_informational.label_descr, ax=ax1, palette=\"Blues\", order=label_order);\n",
    "fig2 = sns.countplot(x=offer_transactional.label_descr, ax=ax2, palette=\"Greens\", order=label_order);\n",
    "\n",
    "ax1.set(title='Offer completion for information offers', xlabel='Labels');\n",
    "ax2.set(title='Offer completion for transactional offers', xlabel='Labels', ylabel='');\n",
    "\n",
    "plt.tight_layout(pad=1.2)\n",
    "\n",
    "# Save figure\n",
    "plt.show()"
   ]
  },
  {
   "cell_type": "code",
   "execution_count": 128,
   "metadata": {},
   "outputs": [
    {
     "data": {
      "text/plain": [
       "5.0    0.627912\n",
       "1.0    0.273794\n",
       "4.0    0.098294\n",
       "Name: label, dtype: float64"
      ]
     },
     "execution_count": 128,
     "metadata": {},
     "output_type": "execute_result"
    }
   ],
   "source": [
    "offer_informational['label'].value_counts() / 34000"
   ]
  },
  {
   "cell_type": "code",
   "execution_count": 129,
   "metadata": {},
   "outputs": [
    {
     "data": {
      "text/plain": [
       "5.0    0.627669\n",
       "1.0    0.152588\n",
       "2.0    0.112985\n",
       "3.0    0.060618\n",
       "4.0    0.046140\n",
       "Name: label, dtype: float64"
      ]
     },
     "execution_count": 129,
     "metadata": {},
     "output_type": "execute_result"
    }
   ],
   "source": [
    "offer_transactional['label'].value_counts() / 136000"
   ]
  },
  {
   "cell_type": "markdown",
   "metadata": {},
   "source": [
    "Around 20% of the total dataset are informational and the rest 80% are transactional. \n",
    "- informational offers have higher completion rate\n",
    "- unsent offers were proportionally similar between informational and transactional offers, but still dominant in counts\n",
    "- no inactive, active customers for informational offers (with no purchase)"
   ]
  },
  {
   "cell_type": "markdown",
   "metadata": {},
   "source": [
    "<a id=\"explore-part2\"></a>\n",
    "## SECTION 4 Explore data - Part2\n",
    "\n",
    "In this section, we would like to go deeper into offer completion by offer type and demographics. <br>\n",
    "Completion can be measured for transactions that were actually sent. "
   ]
  },
  {
   "cell_type": "markdown",
   "metadata": {},
   "source": [
    "### 4a. Completion by offer type"
   ]
  },
  {
   "cell_type": "code",
   "execution_count": 130,
   "metadata": {},
   "outputs": [
    {
     "data": {
      "text/html": [
       "<div>\n",
       "<style scoped>\n",
       "    .dataframe tbody tr th:only-of-type {\n",
       "        vertical-align: middle;\n",
       "    }\n",
       "\n",
       "    .dataframe tbody tr th {\n",
       "        vertical-align: top;\n",
       "    }\n",
       "\n",
       "    .dataframe thead th {\n",
       "        text-align: right;\n",
       "    }\n",
       "</style>\n",
       "<table border=\"1\" class=\"dataframe\">\n",
       "  <thead>\n",
       "    <tr style=\"text-align: right;\">\n",
       "      <th></th>\n",
       "      <th>person</th>\n",
       "      <th>offer_id</th>\n",
       "      <th>offer received</th>\n",
       "      <th>offer viewed</th>\n",
       "      <th>transaction</th>\n",
       "      <th>offer completed</th>\n",
       "      <th>label</th>\n",
       "      <th>amount</th>\n",
       "      <th>reward</th>\n",
       "      <th>label_descr</th>\n",
       "    </tr>\n",
       "  </thead>\n",
       "  <tbody>\n",
       "    <tr>\n",
       "      <th>0</th>\n",
       "      <td>0009655768c64bdeb2e877511632db8f</td>\n",
       "      <td>0b1e1539f2cc45b7b9fa7c272da2e1d7</td>\n",
       "      <td>NaN</td>\n",
       "      <td>NaN</td>\n",
       "      <td>NaN</td>\n",
       "      <td>NaN</td>\n",
       "      <td>5.0</td>\n",
       "      <td>NaN</td>\n",
       "      <td>NaN</td>\n",
       "      <td>not received</td>\n",
       "    </tr>\n",
       "    <tr>\n",
       "      <th>1</th>\n",
       "      <td>0009655768c64bdeb2e877511632db8f</td>\n",
       "      <td>2298d6c36e964ae4a3e7e9706d1fb8c2</td>\n",
       "      <td>NaN</td>\n",
       "      <td>NaN</td>\n",
       "      <td>NaN</td>\n",
       "      <td>NaN</td>\n",
       "      <td>5.0</td>\n",
       "      <td>NaN</td>\n",
       "      <td>NaN</td>\n",
       "      <td>not received</td>\n",
       "    </tr>\n",
       "    <tr>\n",
       "      <th>2</th>\n",
       "      <td>0009655768c64bdeb2e877511632db8f</td>\n",
       "      <td>2906b810c7d4411798c6938adc9daaa5</td>\n",
       "      <td>576.0</td>\n",
       "      <td>NaN</td>\n",
       "      <td>NaN</td>\n",
       "      <td>576.0</td>\n",
       "      <td>3.0</td>\n",
       "      <td>10.27</td>\n",
       "      <td>2.0</td>\n",
       "      <td>active</td>\n",
       "    </tr>\n",
       "  </tbody>\n",
       "</table>\n",
       "</div>"
      ],
      "text/plain": [
       "                             person                          offer_id  \\\n",
       "0  0009655768c64bdeb2e877511632db8f  0b1e1539f2cc45b7b9fa7c272da2e1d7   \n",
       "1  0009655768c64bdeb2e877511632db8f  2298d6c36e964ae4a3e7e9706d1fb8c2   \n",
       "2  0009655768c64bdeb2e877511632db8f  2906b810c7d4411798c6938adc9daaa5   \n",
       "\n",
       "   offer received  offer viewed  transaction  offer completed  label  amount  \\\n",
       "0             NaN           NaN          NaN              NaN    5.0     NaN   \n",
       "1             NaN           NaN          NaN              NaN    5.0     NaN   \n",
       "2           576.0           NaN          NaN            576.0    3.0   10.27   \n",
       "\n",
       "   reward   label_descr  \n",
       "0     NaN  not received  \n",
       "1     NaN  not received  \n",
       "2     2.0        active  "
      ]
     },
     "execution_count": 130,
     "metadata": {},
     "output_type": "execute_result"
    }
   ],
   "source": [
    "transaction.head(3)"
   ]
  },
  {
   "cell_type": "code",
   "execution_count": 131,
   "metadata": {},
   "outputs": [],
   "source": [
    "# Subset transactions with offers sent\n",
    "transactions_sent = transaction[transaction['label'] != 5].copy()\n",
    "\n",
    "# Create a dataframe that shows\n",
    "# number of completed and incomplete offers by offer id\n",
    "completion_by_offer = transactions_sent.groupby(['offer_id', 'label_descr']).size().unstack()\n",
    "\n",
    "# Compute completion rate\n",
    "completion_by_offer['completion_rate'] = completion_by_offer['complete'] / completion_by_offer.sum(axis=1)\n",
    "\n",
    "# Sort by completed rate\n",
    "completion_by_offer.sort_values('completion_rate', ascending=False, inplace=True)\n",
    "\n",
    "# Merge the data sets\n",
    "completion_by_offer = pd.merge(completion_by_offer.reset_index(), portfolio, left_on='offer_id', right_on='id', how='left')\n",
    "\n",
    "# Drop duplicated id column\n",
    "completion_by_offer.drop(columns='id', inplace=True)"
   ]
  },
  {
   "cell_type": "code",
   "execution_count": 132,
   "metadata": {},
   "outputs": [
    {
     "data": {
      "text/html": [
       "<div>\n",
       "<style scoped>\n",
       "    .dataframe tbody tr th:only-of-type {\n",
       "        vertical-align: middle;\n",
       "    }\n",
       "\n",
       "    .dataframe tbody tr th {\n",
       "        vertical-align: top;\n",
       "    }\n",
       "\n",
       "    .dataframe thead th {\n",
       "        text-align: right;\n",
       "    }\n",
       "</style>\n",
       "<table border=\"1\" class=\"dataframe\">\n",
       "  <thead>\n",
       "    <tr style=\"text-align: right;\">\n",
       "      <th></th>\n",
       "      <th>offer_id</th>\n",
       "      <th>active</th>\n",
       "      <th>complete</th>\n",
       "      <th>inactive</th>\n",
       "      <th>indifferent</th>\n",
       "      <th>completion_rate</th>\n",
       "      <th>reward</th>\n",
       "      <th>difficulty</th>\n",
       "      <th>duration</th>\n",
       "      <th>offer_type</th>\n",
       "      <th>web</th>\n",
       "      <th>email</th>\n",
       "      <th>social</th>\n",
       "      <th>mobile</th>\n",
       "    </tr>\n",
       "  </thead>\n",
       "  <tbody>\n",
       "    <tr>\n",
       "      <th>0</th>\n",
       "      <td>5a8bc65990b245e5a138643cd4eb9837</td>\n",
       "      <td>NaN</td>\n",
       "      <td>5674.0</td>\n",
       "      <td>NaN</td>\n",
       "      <td>646.0</td>\n",
       "      <td>0.897785</td>\n",
       "      <td>0</td>\n",
       "      <td>0</td>\n",
       "      <td>3</td>\n",
       "      <td>informational</td>\n",
       "      <td>0</td>\n",
       "      <td>1</td>\n",
       "      <td>1</td>\n",
       "      <td>1</td>\n",
       "    </tr>\n",
       "    <tr>\n",
       "      <th>1</th>\n",
       "      <td>fafdcd668e3743c1bb461111dcafc2a4</td>\n",
       "      <td>497.0</td>\n",
       "      <td>4033.0</td>\n",
       "      <td>1717.0</td>\n",
       "      <td>85.0</td>\n",
       "      <td>0.636924</td>\n",
       "      <td>2</td>\n",
       "      <td>10</td>\n",
       "      <td>10</td>\n",
       "      <td>discount</td>\n",
       "      <td>1</td>\n",
       "      <td>1</td>\n",
       "      <td>1</td>\n",
       "      <td>1</td>\n",
       "    </tr>\n",
       "    <tr>\n",
       "      <th>2</th>\n",
       "      <td>2298d6c36e964ae4a3e7e9706d1fb8c2</td>\n",
       "      <td>601.0</td>\n",
       "      <td>3820.0</td>\n",
       "      <td>1809.0</td>\n",
       "      <td>95.0</td>\n",
       "      <td>0.603953</td>\n",
       "      <td>3</td>\n",
       "      <td>7</td>\n",
       "      <td>7</td>\n",
       "      <td>discount</td>\n",
       "      <td>1</td>\n",
       "      <td>1</td>\n",
       "      <td>1</td>\n",
       "      <td>1</td>\n",
       "    </tr>\n",
       "    <tr>\n",
       "      <th>3</th>\n",
       "      <td>3f207df678b143eea3cee63160fa8bed</td>\n",
       "      <td>NaN</td>\n",
       "      <td>3635.0</td>\n",
       "      <td>NaN</td>\n",
       "      <td>2696.0</td>\n",
       "      <td>0.574159</td>\n",
       "      <td>0</td>\n",
       "      <td>0</td>\n",
       "      <td>4</td>\n",
       "      <td>informational</td>\n",
       "      <td>1</td>\n",
       "      <td>1</td>\n",
       "      <td>0</td>\n",
       "      <td>1</td>\n",
       "    </tr>\n",
       "    <tr>\n",
       "      <th>4</th>\n",
       "      <td>f19421c1d4aa40978ebb69ca19b0e20d</td>\n",
       "      <td>612.0</td>\n",
       "      <td>3129.0</td>\n",
       "      <td>2405.0</td>\n",
       "      <td>116.0</td>\n",
       "      <td>0.499681</td>\n",
       "      <td>5</td>\n",
       "      <td>5</td>\n",
       "      <td>5</td>\n",
       "      <td>bogo</td>\n",
       "      <td>1</td>\n",
       "      <td>1</td>\n",
       "      <td>1</td>\n",
       "      <td>1</td>\n",
       "    </tr>\n",
       "    <tr>\n",
       "      <th>5</th>\n",
       "      <td>4d5c57ea9a6940dd891ad53e9dbe8da0</td>\n",
       "      <td>449.0</td>\n",
       "      <td>2436.0</td>\n",
       "      <td>3307.0</td>\n",
       "      <td>138.0</td>\n",
       "      <td>0.384834</td>\n",
       "      <td>10</td>\n",
       "      <td>10</td>\n",
       "      <td>5</td>\n",
       "      <td>bogo</td>\n",
       "      <td>1</td>\n",
       "      <td>1</td>\n",
       "      <td>1</td>\n",
       "      <td>1</td>\n",
       "    </tr>\n",
       "    <tr>\n",
       "      <th>6</th>\n",
       "      <td>ae264e3637204a6fb9bb56bc8210ddfd</td>\n",
       "      <td>863.0</td>\n",
       "      <td>2314.0</td>\n",
       "      <td>2853.0</td>\n",
       "      <td>344.0</td>\n",
       "      <td>0.363037</td>\n",
       "      <td>10</td>\n",
       "      <td>10</td>\n",
       "      <td>7</td>\n",
       "      <td>bogo</td>\n",
       "      <td>0</td>\n",
       "      <td>1</td>\n",
       "      <td>1</td>\n",
       "      <td>1</td>\n",
       "    </tr>\n",
       "    <tr>\n",
       "      <th>7</th>\n",
       "      <td>9b98b8c7a33c4b65b9aebfe6a799e6d9</td>\n",
       "      <td>1862.0</td>\n",
       "      <td>1922.0</td>\n",
       "      <td>1154.0</td>\n",
       "      <td>1417.0</td>\n",
       "      <td>0.302439</td>\n",
       "      <td>5</td>\n",
       "      <td>5</td>\n",
       "      <td>7</td>\n",
       "      <td>bogo</td>\n",
       "      <td>1</td>\n",
       "      <td>1</td>\n",
       "      <td>0</td>\n",
       "      <td>1</td>\n",
       "    </tr>\n",
       "    <tr>\n",
       "      <th>8</th>\n",
       "      <td>2906b810c7d4411798c6938adc9daaa5</td>\n",
       "      <td>1589.0</td>\n",
       "      <td>1891.0</td>\n",
       "      <td>1193.0</td>\n",
       "      <td>1612.0</td>\n",
       "      <td>0.300875</td>\n",
       "      <td>2</td>\n",
       "      <td>10</td>\n",
       "      <td>7</td>\n",
       "      <td>discount</td>\n",
       "      <td>1</td>\n",
       "      <td>1</td>\n",
       "      <td>0</td>\n",
       "      <td>1</td>\n",
       "    </tr>\n",
       "    <tr>\n",
       "      <th>9</th>\n",
       "      <td>0b1e1539f2cc45b7b9fa7c272da2e1d7</td>\n",
       "      <td>1771.0</td>\n",
       "      <td>1207.0</td>\n",
       "      <td>928.0</td>\n",
       "      <td>2468.0</td>\n",
       "      <td>0.189363</td>\n",
       "      <td>5</td>\n",
       "      <td>20</td>\n",
       "      <td>10</td>\n",
       "      <td>discount</td>\n",
       "      <td>1</td>\n",
       "      <td>1</td>\n",
       "      <td>0</td>\n",
       "      <td>0</td>\n",
       "    </tr>\n",
       "  </tbody>\n",
       "</table>\n",
       "</div>"
      ],
      "text/plain": [
       "                           offer_id  active  complete  inactive  indifferent  \\\n",
       "0  5a8bc65990b245e5a138643cd4eb9837     NaN    5674.0       NaN        646.0   \n",
       "1  fafdcd668e3743c1bb461111dcafc2a4   497.0    4033.0    1717.0         85.0   \n",
       "2  2298d6c36e964ae4a3e7e9706d1fb8c2   601.0    3820.0    1809.0         95.0   \n",
       "3  3f207df678b143eea3cee63160fa8bed     NaN    3635.0       NaN       2696.0   \n",
       "4  f19421c1d4aa40978ebb69ca19b0e20d   612.0    3129.0    2405.0        116.0   \n",
       "5  4d5c57ea9a6940dd891ad53e9dbe8da0   449.0    2436.0    3307.0        138.0   \n",
       "6  ae264e3637204a6fb9bb56bc8210ddfd   863.0    2314.0    2853.0        344.0   \n",
       "7  9b98b8c7a33c4b65b9aebfe6a799e6d9  1862.0    1922.0    1154.0       1417.0   \n",
       "8  2906b810c7d4411798c6938adc9daaa5  1589.0    1891.0    1193.0       1612.0   \n",
       "9  0b1e1539f2cc45b7b9fa7c272da2e1d7  1771.0    1207.0     928.0       2468.0   \n",
       "\n",
       "   completion_rate  reward  difficulty  duration     offer_type  web  email  \\\n",
       "0         0.897785       0           0         3  informational    0      1   \n",
       "1         0.636924       2          10        10       discount    1      1   \n",
       "2         0.603953       3           7         7       discount    1      1   \n",
       "3         0.574159       0           0         4  informational    1      1   \n",
       "4         0.499681       5           5         5           bogo    1      1   \n",
       "5         0.384834      10          10         5           bogo    1      1   \n",
       "6         0.363037      10          10         7           bogo    0      1   \n",
       "7         0.302439       5           5         7           bogo    1      1   \n",
       "8         0.300875       2          10         7       discount    1      1   \n",
       "9         0.189363       5          20        10       discount    1      1   \n",
       "\n",
       "   social  mobile  \n",
       "0       1       1  \n",
       "1       1       1  \n",
       "2       1       1  \n",
       "3       0       1  \n",
       "4       1       1  \n",
       "5       1       1  \n",
       "6       1       1  \n",
       "7       0       1  \n",
       "8       0       1  \n",
       "9       0       0  "
      ]
     },
     "execution_count": 132,
     "metadata": {},
     "output_type": "execute_result"
    }
   ],
   "source": [
    "# show the prepared dataset\n",
    "\n",
    "completion_by_offer"
   ]
  },
  {
   "cell_type": "code",
   "execution_count": 133,
   "metadata": {
    "scrolled": true
   },
   "outputs": [],
   "source": [
    "# Get custom offer names\n",
    "# offer_type + reward + difficulty + duration\n",
    "\n",
    "# Instantiate a list of offer names\n",
    "offer_names = list()\n",
    "\n",
    "# Subset the dataframe\n",
    "offset_subset = completion_by_offer[['offer_type', 'reward', 'difficulty', 'duration']]\n",
    "\n",
    "# Iterate by row\n",
    "for idx, values in offset_subset.iterrows():\n",
    "\n",
    "    # Instantiate name\n",
    "    name = ''\n",
    "\n",
    "    for item in values:\n",
    "        # If item is string, get the first 4 letters\n",
    "        if type(item) == str:\n",
    "            item = item[:4]\n",
    "\n",
    "        # If item is integer, check if the value < 10, \n",
    "        # then add '0' in front and transform it to string\n",
    "        if type(item) == int and item < 10:\n",
    "            item = '0' + str(item)\n",
    "        else:\n",
    "            item = str(item)\n",
    "\n",
    "        # Concatenate item \n",
    "        name += item\n",
    "\n",
    "    # Add completed name to a list of offer names\n",
    "    offer_names.append(name)\n",
    "\n",
    "\n",
    "# Add the custom column name\n",
    "completion_by_offer['offer_name'] = offer_names"
   ]
  },
  {
   "cell_type": "code",
   "execution_count": 134,
   "metadata": {},
   "outputs": [
    {
     "data": {
      "image/png": "[encoded data removed]",
      "text/plain": [
       "<Figure size 1152x360 with 1 Axes>"
      ]
     },
     "metadata": {
      "needs_background": "light"
     },
     "output_type": "display_data"
    }
   ],
   "source": [
    "completion_by_offer['completion_rate'].plot(kind='bar', stacked=True, figsize=(16,5));\n",
    "\n",
    "plt.title('Completion rate by offer type')\n",
    "plt.xlabel('offer type')\n",
    "plt.ylabel('completion rate')\n",
    "plt.xticks(ticks=range(10), labels=offer_names, rotation=0)\n",
    "plt.yticks(ticks=np.arange(0, 1+0.1, 0.1), labels=['{:.0f}%'.format(n*100) for n in np.arange(0, 1+0.1, 0.1)])\n",
    "plt.show()"
   ]
  },
  {
   "cell_type": "markdown",
   "metadata": {},
   "source": [
    "Informational offer with 3 day duration has nearly 90% completion. \n",
    "\n",
    "Amongst transtional offers (discount, bogo), disc021010 and disc030707 offers have comparatively higher completion\n",
    "- disc021010 : discount offer, reward 2, difficulty 7, duration 10 \n",
    "- disc030707 : discount offer, reward 3, difficulty 7, duration 7\n",
    "\n",
    "Although **bogo** has relatively more rewards than the two discount offers, completion rate is lower."
   ]
  },
  {
   "cell_type": "code",
   "execution_count": 135,
   "metadata": {},
   "outputs": [
    {
     "data": {
      "image/png": "[encoded data removed]",
      "text/plain": [
       "<Figure size 720x432 with 1 Axes>"
      ]
     },
     "metadata": {
      "needs_background": "light"
     },
     "output_type": "display_data"
    }
   ],
   "source": [
    "channels_by_offer = completion_by_offer.iloc[:, -5:].set_index('offer_name')\n",
    "\n",
    "plt.figure(figsize=(10,6))\n",
    "sns.heatmap(channels_by_offer.T, cmap='YlGn', annot=True, cbar=False, square=True)\n",
    "\n",
    "plt.xlabel('offer name')\n",
    "plt.ylabel('channel')\n",
    "plt.show()"
   ]
  },
  {
   "cell_type": "markdown",
   "metadata": {},
   "source": [
    "For transactional offers, higher completion rate could be associated with number of channels. Not communiting through **social** media channel is very likely to lead lower completion rate. Let's make it more granular by offer type."
   ]
  },
  {
   "cell_type": "code",
   "execution_count": 136,
   "metadata": {},
   "outputs": [
    {
     "data": {
      "image/png": "[encoded data removed]",
      "text/plain": [
       "<Figure size 720x360 with 2 Axes>"
      ]
     },
     "metadata": {
      "needs_background": "light"
     },
     "output_type": "display_data"
    }
   ],
   "source": [
    "## Informational offers\n",
    "\n",
    "# Subset dataset\n",
    "channels = ['mobile', 'web', 'social', 'email']\n",
    "completion_info = completion_by_offer.query('offer_type == \"informational\"')\n",
    "\n",
    "\n",
    "fig, (ax1, ax2) = plt.subplots(1, 2, figsize=(10,5))\n",
    "\n",
    "# Figure1 - heatmap for binary\n",
    "sns.heatmap(completion_info[channels].T, linewidths = 0.30, annot = True, \n",
    "            cmap='YlGn', cbar=False, ax=ax1);\n",
    "\n",
    "# Labels\n",
    "ax1.set_title('Channels for informational offer\\n(1: Yes, 0: No)')\n",
    "ax1.set(xlabel='', ylabel='')\n",
    "ax1.set_xticklabels(labels=completion_info['offer_name'], rotation=0)\n",
    "\n",
    "# Figure2 - bar\n",
    "sns.barplot(x='offer_name', y='completion_rate', data=completion_info, ax=ax2, color='green')\n",
    "\n",
    "# Labels\n",
    "ax2.set(title='Completion rate by informational offer')\n",
    "ax2.set_xticks(ticks=np.arange(len(completion_info)))\n",
    "ax2.set_xticklabels(labels=completion_info['offer_name'], rotation=0)\n",
    "ax2.set_yticks(ticks=np.arange(0, 1+0.1, 0.1))\n",
    "ax2.set_yticklabels(labels=['{:.0f}'.format(n*100) + '%' for n in np.arange(0, 1+0.1, 0.1)])\n",
    "\n",
    "plt.tight_layout(pad=1.2)"
   ]
  },
  {
   "cell_type": "code",
   "execution_count": 137,
   "metadata": {},
   "outputs": [
    {
     "data": {
      "image/png": "[encoded data removed]",
      "text/plain": [
       "<Figure size 720x360 with 2 Axes>"
      ]
     },
     "metadata": {
      "needs_background": "light"
     },
     "output_type": "display_data"
    }
   ],
   "source": [
    "## Discount offers\n",
    "\n",
    "# Subset dataset\n",
    "channels = ['mobile', 'web', 'social', 'email']\n",
    "completion_discount = completion_by_offer.query('offer_type == \"discount\"')\n",
    "\n",
    "fig, (ax1, ax2) = plt.subplots(1, 2, figsize=(10,5))\n",
    "\n",
    "# Figure1 - heatmap for binary\n",
    "sns.heatmap(completion_discount[channels].T, linewidths = 0.30, annot = True, \n",
    "            cmap='YlGn', cbar=False, ax=ax1);\n",
    "\n",
    "# Labels\n",
    "ax1.set_title('Channels for discount offer\\n(1: Yes, 0: No)')\n",
    "ax1.set_xticklabels(labels=completion_discount['offer_name'], rotation=0)\n",
    "ax1.set(xlabel='', ylabel='')\n",
    "\n",
    "# Figure2 - bar\n",
    "sns.barplot(x='offer_name', y='completion_rate', data=completion_discount, ax=ax2, color='green')\n",
    "\n",
    "# Labels\n",
    "ax2.set(title='Completion rate by discount offer')\n",
    "ax2.set_xticks(ticks=np.arange(len(completion_discount)))\n",
    "ax2.set_xticklabels(labels=completion_discount['offer_name'], rotation=0)\n",
    "ax2.set_yticks(ticks=np.arange(0, 1+0.1, 0.1))\n",
    "ax2.set_yticklabels(labels=['{:.0f}'.format(n*100) + '%' for n in np.arange(0, 1+0.1, 0.1)])\n",
    "\n",
    "plt.tight_layout(pad=1.2)"
   ]
  },
  {
   "cell_type": "code",
   "execution_count": 138,
   "metadata": {},
   "outputs": [
    {
     "data": {
      "image/png": "[encoded data removed]",
      "text/plain": [
       "<Figure size 720x360 with 2 Axes>"
      ]
     },
     "metadata": {
      "needs_background": "light"
     },
     "output_type": "display_data"
    }
   ],
   "source": [
    "## Discount offers\n",
    "\n",
    "# Subset dataset\n",
    "channels = ['mobile', 'web', 'social', 'email']\n",
    "completion_bogo = completion_by_offer.query('offer_type == \"bogo\"')\n",
    "\n",
    "fig, (ax1, ax2) = plt.subplots(1, 2, figsize=(10,5))\n",
    "\n",
    "# Figure1 - heatmap for binary\n",
    "sns.heatmap(completion_bogo[channels].T, linewidths = 0.30, annot = True, \n",
    "            cmap='YlGn', cbar=False, ax=ax1);\n",
    "\n",
    "# Labels\n",
    "ax1.set_title('Channels for bogo offer\\n(1: Yes, 0: No)')\n",
    "ax1.set(xlabel='', ylabel='')\n",
    "ax1.set_xticklabels(labels=completion_bogo['offer_name'], rotation=0)\n",
    "\n",
    "# Figure2 - bar\n",
    "sns.barplot(x='offer_name', y='completion_rate', data=completion_bogo, ax=ax2, color='green')\n",
    "\n",
    "# Labels\n",
    "ax2.set(title='Completion rate by bogo offer')\n",
    "ax2.set_xticks(ticks=np.arange(len(completion_bogo)))\n",
    "ax2.set_xticklabels(labels=completion_bogo['offer_name'], rotation=0)\n",
    "ax2.set_yticks(ticks=np.arange(0, 1+0.1, 0.1))\n",
    "ax2.set_yticklabels(labels=['{:.0f}'.format(n*100) + '%' for n in np.arange(0, 1+0.1, 0.1)])\n",
    "\n",
    "plt.tight_layout(pad=1.2)"
   ]
  },
  {
   "cell_type": "markdown",
   "metadata": {},
   "source": [
    "### 4c. Offer completion by demographics"
   ]
  },
  {
   "cell_type": "markdown",
   "metadata": {},
   "source": [
    "There are 5 possible behaviours identified through the funnels and each will be labeled as following.\n",
    "\n",
    "1. complete\n",
    "2. inactive : incomplete, no purchase after offer viewed\n",
    "3. active   : incomplete, but purchased without offer viewed\n",
    "4. indifferent: incomplete, no purchase no view\n",
    "5. not received \n",
    "\n",
    "For this analysis, label 5 (not received) is not considered."
   ]
  },
  {
   "cell_type": "code",
   "execution_count": 139,
   "metadata": {},
   "outputs": [],
   "source": [
    "# Prepare dataset for analysis\n",
    "\n",
    "# Merge with profile_v1 dataset\n",
    "completion_demo = pd.merge(transactions_sent, profile, left_on='person', right_on='id', how='left')\n",
    "\n",
    "# Drop the duplicated id column\n",
    "completion_demo = completion_demo.drop(columns='id')\n",
    "\n",
    "# Set the label order \n",
    "label_order = list(label_num_to_name.values())[:-1]\n",
    "completion_demo.label_descr = pd.Categorical(completion_demo.label_descr, categories=label_order)"
   ]
  },
  {
   "cell_type": "code",
   "execution_count": 140,
   "metadata": {},
   "outputs": [
    {
     "data": {
      "text/html": [
       "<div>\n",
       "<style scoped>\n",
       "    .dataframe tbody tr th:only-of-type {\n",
       "        vertical-align: middle;\n",
       "    }\n",
       "\n",
       "    .dataframe tbody tr th {\n",
       "        vertical-align: top;\n",
       "    }\n",
       "\n",
       "    .dataframe thead th {\n",
       "        text-align: right;\n",
       "    }\n",
       "</style>\n",
       "<table border=\"1\" class=\"dataframe\">\n",
       "  <thead>\n",
       "    <tr style=\"text-align: right;\">\n",
       "      <th></th>\n",
       "      <th>person</th>\n",
       "      <th>offer_id</th>\n",
       "      <th>offer received</th>\n",
       "      <th>offer viewed</th>\n",
       "      <th>transaction</th>\n",
       "      <th>offer completed</th>\n",
       "      <th>label</th>\n",
       "      <th>amount</th>\n",
       "      <th>reward</th>\n",
       "      <th>label_descr</th>\n",
       "      <th>gender</th>\n",
       "      <th>age</th>\n",
       "      <th>became_member_on</th>\n",
       "      <th>income</th>\n",
       "    </tr>\n",
       "  </thead>\n",
       "  <tbody>\n",
       "    <tr>\n",
       "      <th>0</th>\n",
       "      <td>0009655768c64bdeb2e877511632db8f</td>\n",
       "      <td>2906b810c7d4411798c6938adc9daaa5</td>\n",
       "      <td>576.0</td>\n",
       "      <td>NaN</td>\n",
       "      <td>NaN</td>\n",
       "      <td>576.0</td>\n",
       "      <td>3.0</td>\n",
       "      <td>10.27</td>\n",
       "      <td>2.0</td>\n",
       "      <td>active</td>\n",
       "      <td>M</td>\n",
       "      <td>33.0</td>\n",
       "      <td>2017-04-21</td>\n",
       "      <td>72000.0</td>\n",
       "    </tr>\n",
       "    <tr>\n",
       "      <th>1</th>\n",
       "      <td>0009655768c64bdeb2e877511632db8f</td>\n",
       "      <td>3f207df678b143eea3cee63160fa8bed</td>\n",
       "      <td>336.0</td>\n",
       "      <td>372.0</td>\n",
       "      <td>NaN</td>\n",
       "      <td>NaN</td>\n",
       "      <td>1.0</td>\n",
       "      <td>NaN</td>\n",
       "      <td>NaN</td>\n",
       "      <td>complete</td>\n",
       "      <td>M</td>\n",
       "      <td>33.0</td>\n",
       "      <td>2017-04-21</td>\n",
       "      <td>72000.0</td>\n",
       "    </tr>\n",
       "    <tr>\n",
       "      <th>2</th>\n",
       "      <td>0009655768c64bdeb2e877511632db8f</td>\n",
       "      <td>5a8bc65990b245e5a138643cd4eb9837</td>\n",
       "      <td>168.0</td>\n",
       "      <td>192.0</td>\n",
       "      <td>NaN</td>\n",
       "      <td>NaN</td>\n",
       "      <td>1.0</td>\n",
       "      <td>NaN</td>\n",
       "      <td>NaN</td>\n",
       "      <td>complete</td>\n",
       "      <td>M</td>\n",
       "      <td>33.0</td>\n",
       "      <td>2017-04-21</td>\n",
       "      <td>72000.0</td>\n",
       "    </tr>\n",
       "    <tr>\n",
       "      <th>3</th>\n",
       "      <td>0009655768c64bdeb2e877511632db8f</td>\n",
       "      <td>f19421c1d4aa40978ebb69ca19b0e20d</td>\n",
       "      <td>408.0</td>\n",
       "      <td>456.0</td>\n",
       "      <td>NaN</td>\n",
       "      <td>414.0</td>\n",
       "      <td>3.0</td>\n",
       "      <td>8.57</td>\n",
       "      <td>5.0</td>\n",
       "      <td>active</td>\n",
       "      <td>M</td>\n",
       "      <td>33.0</td>\n",
       "      <td>2017-04-21</td>\n",
       "      <td>72000.0</td>\n",
       "    </tr>\n",
       "    <tr>\n",
       "      <th>4</th>\n",
       "      <td>0009655768c64bdeb2e877511632db8f</td>\n",
       "      <td>fafdcd668e3743c1bb461111dcafc2a4</td>\n",
       "      <td>504.0</td>\n",
       "      <td>540.0</td>\n",
       "      <td>NaN</td>\n",
       "      <td>528.0</td>\n",
       "      <td>3.0</td>\n",
       "      <td>14.11</td>\n",
       "      <td>2.0</td>\n",
       "      <td>active</td>\n",
       "      <td>M</td>\n",
       "      <td>33.0</td>\n",
       "      <td>2017-04-21</td>\n",
       "      <td>72000.0</td>\n",
       "    </tr>\n",
       "  </tbody>\n",
       "</table>\n",
       "</div>"
      ],
      "text/plain": [
       "                             person                          offer_id  \\\n",
       "0  0009655768c64bdeb2e877511632db8f  2906b810c7d4411798c6938adc9daaa5   \n",
       "1  0009655768c64bdeb2e877511632db8f  3f207df678b143eea3cee63160fa8bed   \n",
       "2  0009655768c64bdeb2e877511632db8f  5a8bc65990b245e5a138643cd4eb9837   \n",
       "3  0009655768c64bdeb2e877511632db8f  f19421c1d4aa40978ebb69ca19b0e20d   \n",
       "4  0009655768c64bdeb2e877511632db8f  fafdcd668e3743c1bb461111dcafc2a4   \n",
       "\n",
       "   offer received  offer viewed  transaction  offer completed  label  amount  \\\n",
       "0           576.0           NaN          NaN            576.0    3.0   10.27   \n",
       "1           336.0         372.0          NaN              NaN    1.0     NaN   \n",
       "2           168.0         192.0          NaN              NaN    1.0     NaN   \n",
       "3           408.0         456.0          NaN            414.0    3.0    8.57   \n",
       "4           504.0         540.0          NaN            528.0    3.0   14.11   \n",
       "\n",
       "   reward label_descr gender   age became_member_on   income  \n",
       "0     2.0      active      M  33.0       2017-04-21  72000.0  \n",
       "1     NaN    complete      M  33.0       2017-04-21  72000.0  \n",
       "2     NaN    complete      M  33.0       2017-04-21  72000.0  \n",
       "3     5.0      active      M  33.0       2017-04-21  72000.0  \n",
       "4     2.0      active      M  33.0       2017-04-21  72000.0  "
      ]
     },
     "execution_count": 140,
     "metadata": {},
     "output_type": "execute_result"
    }
   ],
   "source": [
    "completion_demo.head()"
   ]
  },
  {
   "cell_type": "code",
   "execution_count": 141,
   "metadata": {
    "tags": []
   },
   "outputs": [
    {
     "data": {
      "image/png": "[encoded data removed]",
      "text/plain": [
       "<Figure size 720x360 with 1 Axes>"
      ]
     },
     "metadata": {
      "needs_background": "light"
     },
     "output_type": "display_data"
    }
   ],
   "source": [
    "# Pivot completion by gender\n",
    "completion_gender = completion_demo.groupby(['label_descr', 'gender']).size().unstack()\n",
    "completion_gender_perc = completion_gender / completion_gender.sum(axis=0)\n",
    "\n",
    "# Plot \n",
    "completion_gender_perc.T.plot(kind='bar', stacked=True, figsize=(10,5));\n",
    "\n",
    "# Annotation\n",
    "for i, _type in enumerate(completion_gender.columns):\n",
    "    compl_rate = completion_gender_perc.loc['complete', _type]    \n",
    "    plt.text(i-0.05, 0.2, '{:.0f}%'.format(compl_rate * 100), \n",
    "             color='#fff', fontsize=12)\n",
    "\n",
    "plt.title('Offer completion by gender\\n(arrow represents completion rate)')\n",
    "plt.xticks(rotation=0, ticks=np.arange(3), labels=['Female', 'Male', 'Others'])\n",
    "plt.ylabel('Percentage')\n",
    "\n",
    "plt.legend(loc=8, ncol=len(completion_gender.index), bbox_to_anchor=(0.50, -0.30))\n",
    "plt.tight_layout(pad=1.2)\n",
    "plt.show()"
   ]
  },
  {
   "cell_type": "markdown",
   "metadata": {},
   "source": [
    "Female customers generally have higher completion rate than male. Male customers are less active to promotional offers - viewing an offere less likely to lead to purchase."
   ]
  },
  {
   "cell_type": "markdown",
   "metadata": {},
   "source": [
    "### Completion by age"
   ]
  },
  {
   "cell_type": "code",
   "execution_count": 142,
   "metadata": {},
   "outputs": [],
   "source": [
    "# Divide each record with age group\n",
    "bin_edges = np.arange(10, 100+10, 10)\n",
    "bin_label = [str(n)+ 's' for n in bin_edges[:-1]]\n",
    "completion_demo['age_group'] = pd.cut(completion_demo.age, bins=bin_edges, labels=bin_label)\n",
    "\n",
    "# Pivot completion by age\n",
    "completion_age = completion_demo.groupby(['label_descr', 'age_group']).size().unstack()\n",
    "completion_age_perc = completion_age / completion_age.sum(axis=0)"
   ]
  },
  {
   "cell_type": "code",
   "execution_count": 143,
   "metadata": {},
   "outputs": [
    {
     "data": {
      "image/png": "[encoded data removed]",
      "text/plain": [
       "<Figure size 720x360 with 1 Axes>"
      ]
     },
     "metadata": {
      "needs_background": "light"
     },
     "output_type": "display_data"
    }
   ],
   "source": [
    "# Plot \n",
    "completion_age_perc.T.plot(kind='bar', stacked=True, figsize=(10,5));\n",
    "\n",
    "# Annotation\n",
    "for i, val in enumerate(completion_age_perc.columns):\n",
    "    compl_rt = completion_age_perc[val][0]    \n",
    "    plt.text(i-0.14, 0.2, '{:.0f}%'.format(compl_rt * 100), \n",
    "             color='#fff', fontsize=10)\n",
    "\n",
    "plt.title('Offer completion by age group\\n(box represents completion rate)')\n",
    "plt.xticks(rotation=0)\n",
    "plt.ylabel('percent')\n",
    "\n",
    "plt.legend(loc=8, ncol=len(completion_age_perc.index), bbox_to_anchor=(0.50, -0.30))\n",
    "plt.tight_layout(pad=1.2)\n",
    "plt.show()"
   ]
  },
  {
   "cell_type": "markdown",
   "metadata": {},
   "source": [
    "Completion rate is low (lower than incomplete) for customers below 30s whereas those above 40s have completion rate higher than 50%."
   ]
  },
  {
   "cell_type": "markdown",
   "metadata": {},
   "source": [
    "### Completion by income"
   ]
  },
  {
   "cell_type": "code",
   "execution_count": 144,
   "metadata": {},
   "outputs": [],
   "source": [
    "# Divide each record with income group\n",
    "bin_edges = np.arange(completion_demo.income.min(), completion_demo.income.max() + 10000, 10000)\n",
    "bin_label = ['$' + str(int(n))[:-3] + 'k' for n in bin_edges[:-1]]\n",
    "completion_demo['income_group'] = pd.cut(completion_demo.income, bins=bin_edges, labels=bin_label)\n",
    "\n",
    "# Pivot completion by income\n",
    "completion_income = completion_demo.groupby(['label_descr', 'income_group']).size().unstack()\n",
    "completion_income_perc = completion_income / completion_income.sum(axis=0)"
   ]
  },
  {
   "cell_type": "code",
   "execution_count": 145,
   "metadata": {},
   "outputs": [
    {
     "data": {
      "text/html": [
       "<div>\n",
       "<style scoped>\n",
       "    .dataframe tbody tr th:only-of-type {\n",
       "        vertical-align: middle;\n",
       "    }\n",
       "\n",
       "    .dataframe tbody tr th {\n",
       "        vertical-align: top;\n",
       "    }\n",
       "\n",
       "    .dataframe thead th {\n",
       "        text-align: right;\n",
       "    }\n",
       "</style>\n",
       "<table border=\"1\" class=\"dataframe\">\n",
       "  <thead>\n",
       "    <tr style=\"text-align: right;\">\n",
       "      <th>income_group</th>\n",
       "      <th>$30k</th>\n",
       "      <th>$40k</th>\n",
       "      <th>$50k</th>\n",
       "      <th>$60k</th>\n",
       "      <th>$70k</th>\n",
       "      <th>$80k</th>\n",
       "      <th>$90k</th>\n",
       "      <th>$100k</th>\n",
       "      <th>$110k</th>\n",
       "    </tr>\n",
       "    <tr>\n",
       "      <th>label_descr</th>\n",
       "      <th></th>\n",
       "      <th></th>\n",
       "      <th></th>\n",
       "      <th></th>\n",
       "      <th></th>\n",
       "      <th></th>\n",
       "      <th></th>\n",
       "      <th></th>\n",
       "      <th></th>\n",
       "    </tr>\n",
       "  </thead>\n",
       "  <tbody>\n",
       "    <tr>\n",
       "      <th>complete</th>\n",
       "      <td>0.391871</td>\n",
       "      <td>0.403701</td>\n",
       "      <td>0.518489</td>\n",
       "      <td>0.529297</td>\n",
       "      <td>0.552808</td>\n",
       "      <td>0.596989</td>\n",
       "      <td>0.596785</td>\n",
       "      <td>0.498529</td>\n",
       "      <td>0.518002</td>\n",
       "    </tr>\n",
       "    <tr>\n",
       "      <th>inactive</th>\n",
       "      <td>0.278270</td>\n",
       "      <td>0.254662</td>\n",
       "      <td>0.221467</td>\n",
       "      <td>0.207782</td>\n",
       "      <td>0.156536</td>\n",
       "      <td>0.133946</td>\n",
       "      <td>0.135160</td>\n",
       "      <td>0.098529</td>\n",
       "      <td>0.083043</td>\n",
       "    </tr>\n",
       "    <tr>\n",
       "      <th>active</th>\n",
       "      <td>0.106566</td>\n",
       "      <td>0.124840</td>\n",
       "      <td>0.115831</td>\n",
       "      <td>0.132151</td>\n",
       "      <td>0.165063</td>\n",
       "      <td>0.183223</td>\n",
       "      <td>0.187684</td>\n",
       "      <td>0.260294</td>\n",
       "      <td>0.245064</td>\n",
       "    </tr>\n",
       "    <tr>\n",
       "      <th>indifferent</th>\n",
       "      <td>0.223293</td>\n",
       "      <td>0.216797</td>\n",
       "      <td>0.144213</td>\n",
       "      <td>0.130770</td>\n",
       "      <td>0.125594</td>\n",
       "      <td>0.085843</td>\n",
       "      <td>0.080371</td>\n",
       "      <td>0.142647</td>\n",
       "      <td>0.153891</td>\n",
       "    </tr>\n",
       "  </tbody>\n",
       "</table>\n",
       "</div>"
      ],
      "text/plain": [
       "income_group      $30k      $40k      $50k      $60k      $70k      $80k  \\\n",
       "label_descr                                                                \n",
       "complete      0.391871  0.403701  0.518489  0.529297  0.552808  0.596989   \n",
       "inactive      0.278270  0.254662  0.221467  0.207782  0.156536  0.133946   \n",
       "active        0.106566  0.124840  0.115831  0.132151  0.165063  0.183223   \n",
       "indifferent   0.223293  0.216797  0.144213  0.130770  0.125594  0.085843   \n",
       "\n",
       "income_group      $90k     $100k     $110k  \n",
       "label_descr                                 \n",
       "complete      0.596785  0.498529  0.518002  \n",
       "inactive      0.135160  0.098529  0.083043  \n",
       "active        0.187684  0.260294  0.245064  \n",
       "indifferent   0.080371  0.142647  0.153891  "
      ]
     },
     "execution_count": 145,
     "metadata": {},
     "output_type": "execute_result"
    }
   ],
   "source": [
    "completion_income_perc"
   ]
  },
  {
   "cell_type": "code",
   "execution_count": 146,
   "metadata": {},
   "outputs": [
    {
     "data": {
      "image/png": "[encoded data removed]",
      "text/plain": [
       "<Figure size 720x360 with 1 Axes>"
      ]
     },
     "metadata": {
      "needs_background": "light"
     },
     "output_type": "display_data"
    }
   ],
   "source": [
    "# Plot \n",
    "completion_income_perc.T.plot(kind='bar', stacked=True, figsize=(10,5));\n",
    "\n",
    "# Annotation\n",
    "for i, val in enumerate(completion_income_perc.columns):\n",
    "    compl_rt = completion_income_perc[val][0]    \n",
    "    plt.text(i-.17, 0.2, '{:.0f}%'.format(compl_rt * 100), \n",
    "             color='#fff', fontsize=10)\n",
    "\n",
    "plt.title('Offer completion by income group\\n(box represents completion rate)')\n",
    "plt.xticks(rotation=0)\n",
    "plt.ylabel('percent')\n",
    "\n",
    "plt.legend(loc=8, ncol=len(completion_income_perc.index), bbox_to_anchor=(0.50, -0.30))\n",
    "plt.show()"
   ]
  },
  {
   "cell_type": "markdown",
   "metadata": {},
   "source": [
    "Completion rate is lower for customers with income less than \\\\$50k. The higest completion rate is observed in the income group between \\\\$80k and \\\\$100k."
   ]
  },
  {
   "cell_type": "markdown",
   "metadata": {},
   "source": [
    "---\n",
    "<a id=\"feature\"></a>\n",
    "## SECTION5 Feature engineering\n",
    "Now merge the cleaned dataset to prepare for a classifer model. Load the cleand dataset again to ensure that the correct data is used."
   ]
  },
  {
   "cell_type": "code",
   "execution_count": 5,
   "metadata": {},
   "outputs": [],
   "source": [
    "# Load dataset\n",
    "portfolio = pd.read_csv('data/portfolio_clean.csv')\n",
    "profile = pd.read_csv('data/profile_clean.csv')\n",
    "transactions = pd.read_csv('data/transactions_pivoted.csv')"
   ]
  },
  {
   "cell_type": "markdown",
   "metadata": {},
   "source": [
    "### 5a. Merging the dataset "
   ]
  },
  {
   "cell_type": "code",
   "execution_count": 6,
   "metadata": {
    "scrolled": true
   },
   "outputs": [
    {
     "data": {
      "text/html": [
       "<div>\n",
       "<style scoped>\n",
       "    .dataframe tbody tr th:only-of-type {\n",
       "        vertical-align: middle;\n",
       "    }\n",
       "\n",
       "    .dataframe tbody tr th {\n",
       "        vertical-align: top;\n",
       "    }\n",
       "\n",
       "    .dataframe thead th {\n",
       "        text-align: right;\n",
       "    }\n",
       "</style>\n",
       "<table border=\"1\" class=\"dataframe\">\n",
       "  <thead>\n",
       "    <tr style=\"text-align: right;\">\n",
       "      <th></th>\n",
       "      <th>person</th>\n",
       "      <th>offer_id</th>\n",
       "      <th>offer received</th>\n",
       "      <th>offer viewed</th>\n",
       "      <th>transaction</th>\n",
       "      <th>offer completed</th>\n",
       "      <th>label</th>\n",
       "      <th>amount</th>\n",
       "      <th>reward</th>\n",
       "      <th>gender</th>\n",
       "      <th>age</th>\n",
       "      <th>id</th>\n",
       "      <th>became_member_on</th>\n",
       "      <th>income</th>\n",
       "    </tr>\n",
       "  </thead>\n",
       "  <tbody>\n",
       "    <tr>\n",
       "      <th>0</th>\n",
       "      <td>0009655768c64bdeb2e877511632db8f</td>\n",
       "      <td>0b1e1539f2cc45b7b9fa7c272da2e1d7</td>\n",
       "      <td>NaN</td>\n",
       "      <td>NaN</td>\n",
       "      <td>NaN</td>\n",
       "      <td>NaN</td>\n",
       "      <td>5.0</td>\n",
       "      <td>NaN</td>\n",
       "      <td>NaN</td>\n",
       "      <td>M</td>\n",
       "      <td>33.0</td>\n",
       "      <td>0009655768c64bdeb2e877511632db8f</td>\n",
       "      <td>2017-04-21</td>\n",
       "      <td>72000.0</td>\n",
       "    </tr>\n",
       "    <tr>\n",
       "      <th>1</th>\n",
       "      <td>0009655768c64bdeb2e877511632db8f</td>\n",
       "      <td>2298d6c36e964ae4a3e7e9706d1fb8c2</td>\n",
       "      <td>NaN</td>\n",
       "      <td>NaN</td>\n",
       "      <td>NaN</td>\n",
       "      <td>NaN</td>\n",
       "      <td>5.0</td>\n",
       "      <td>NaN</td>\n",
       "      <td>NaN</td>\n",
       "      <td>M</td>\n",
       "      <td>33.0</td>\n",
       "      <td>0009655768c64bdeb2e877511632db8f</td>\n",
       "      <td>2017-04-21</td>\n",
       "      <td>72000.0</td>\n",
       "    </tr>\n",
       "    <tr>\n",
       "      <th>2</th>\n",
       "      <td>0009655768c64bdeb2e877511632db8f</td>\n",
       "      <td>2906b810c7d4411798c6938adc9daaa5</td>\n",
       "      <td>576.0</td>\n",
       "      <td>NaN</td>\n",
       "      <td>NaN</td>\n",
       "      <td>576.0</td>\n",
       "      <td>3.0</td>\n",
       "      <td>10.27</td>\n",
       "      <td>2.0</td>\n",
       "      <td>M</td>\n",
       "      <td>33.0</td>\n",
       "      <td>0009655768c64bdeb2e877511632db8f</td>\n",
       "      <td>2017-04-21</td>\n",
       "      <td>72000.0</td>\n",
       "    </tr>\n",
       "    <tr>\n",
       "      <th>3</th>\n",
       "      <td>0009655768c64bdeb2e877511632db8f</td>\n",
       "      <td>3f207df678b143eea3cee63160fa8bed</td>\n",
       "      <td>336.0</td>\n",
       "      <td>372.0</td>\n",
       "      <td>NaN</td>\n",
       "      <td>NaN</td>\n",
       "      <td>1.0</td>\n",
       "      <td>NaN</td>\n",
       "      <td>NaN</td>\n",
       "      <td>M</td>\n",
       "      <td>33.0</td>\n",
       "      <td>0009655768c64bdeb2e877511632db8f</td>\n",
       "      <td>2017-04-21</td>\n",
       "      <td>72000.0</td>\n",
       "    </tr>\n",
       "    <tr>\n",
       "      <th>4</th>\n",
       "      <td>0009655768c64bdeb2e877511632db8f</td>\n",
       "      <td>4d5c57ea9a6940dd891ad53e9dbe8da0</td>\n",
       "      <td>NaN</td>\n",
       "      <td>NaN</td>\n",
       "      <td>NaN</td>\n",
       "      <td>NaN</td>\n",
       "      <td>5.0</td>\n",
       "      <td>NaN</td>\n",
       "      <td>NaN</td>\n",
       "      <td>M</td>\n",
       "      <td>33.0</td>\n",
       "      <td>0009655768c64bdeb2e877511632db8f</td>\n",
       "      <td>2017-04-21</td>\n",
       "      <td>72000.0</td>\n",
       "    </tr>\n",
       "  </tbody>\n",
       "</table>\n",
       "</div>"
      ],
      "text/plain": [
       "                             person                          offer_id  \\\n",
       "0  0009655768c64bdeb2e877511632db8f  0b1e1539f2cc45b7b9fa7c272da2e1d7   \n",
       "1  0009655768c64bdeb2e877511632db8f  2298d6c36e964ae4a3e7e9706d1fb8c2   \n",
       "2  0009655768c64bdeb2e877511632db8f  2906b810c7d4411798c6938adc9daaa5   \n",
       "3  0009655768c64bdeb2e877511632db8f  3f207df678b143eea3cee63160fa8bed   \n",
       "4  0009655768c64bdeb2e877511632db8f  4d5c57ea9a6940dd891ad53e9dbe8da0   \n",
       "\n",
       "   offer received  offer viewed  transaction  offer completed  label  amount  \\\n",
       "0             NaN           NaN          NaN              NaN    5.0     NaN   \n",
       "1             NaN           NaN          NaN              NaN    5.0     NaN   \n",
       "2           576.0           NaN          NaN            576.0    3.0   10.27   \n",
       "3           336.0         372.0          NaN              NaN    1.0     NaN   \n",
       "4             NaN           NaN          NaN              NaN    5.0     NaN   \n",
       "\n",
       "   reward gender   age                                id became_member_on  \\\n",
       "0     NaN      M  33.0  0009655768c64bdeb2e877511632db8f       2017-04-21   \n",
       "1     NaN      M  33.0  0009655768c64bdeb2e877511632db8f       2017-04-21   \n",
       "2     2.0      M  33.0  0009655768c64bdeb2e877511632db8f       2017-04-21   \n",
       "3     NaN      M  33.0  0009655768c64bdeb2e877511632db8f       2017-04-21   \n",
       "4     NaN      M  33.0  0009655768c64bdeb2e877511632db8f       2017-04-21   \n",
       "\n",
       "    income  \n",
       "0  72000.0  \n",
       "1  72000.0  \n",
       "2  72000.0  \n",
       "3  72000.0  \n",
       "4  72000.0  "
      ]
     },
     "execution_count": 6,
     "metadata": {},
     "output_type": "execute_result"
    }
   ],
   "source": [
    "df = pd.merge(transactions, profile, left_on='person', right_on='id', how='left')\n",
    "df.head()"
   ]
  },
  {
   "cell_type": "code",
   "execution_count": 7,
   "metadata": {},
   "outputs": [
    {
     "data": {
      "text/html": [
       "<div>\n",
       "<style scoped>\n",
       "    .dataframe tbody tr th:only-of-type {\n",
       "        vertical-align: middle;\n",
       "    }\n",
       "\n",
       "    .dataframe tbody tr th {\n",
       "        vertical-align: top;\n",
       "    }\n",
       "\n",
       "    .dataframe thead th {\n",
       "        text-align: right;\n",
       "    }\n",
       "</style>\n",
       "<table border=\"1\" class=\"dataframe\">\n",
       "  <thead>\n",
       "    <tr style=\"text-align: right;\">\n",
       "      <th></th>\n",
       "      <th>person</th>\n",
       "      <th>offer_id</th>\n",
       "      <th>offer received</th>\n",
       "      <th>offer viewed</th>\n",
       "      <th>transaction</th>\n",
       "      <th>offer completed</th>\n",
       "      <th>label</th>\n",
       "      <th>amount</th>\n",
       "      <th>reward_x</th>\n",
       "      <th>gender</th>\n",
       "      <th>...</th>\n",
       "      <th>income</th>\n",
       "      <th>reward_y</th>\n",
       "      <th>difficulty</th>\n",
       "      <th>duration</th>\n",
       "      <th>offer_type</th>\n",
       "      <th>id_y</th>\n",
       "      <th>web</th>\n",
       "      <th>email</th>\n",
       "      <th>social</th>\n",
       "      <th>mobile</th>\n",
       "    </tr>\n",
       "  </thead>\n",
       "  <tbody>\n",
       "    <tr>\n",
       "      <th>0</th>\n",
       "      <td>0009655768c64bdeb2e877511632db8f</td>\n",
       "      <td>0b1e1539f2cc45b7b9fa7c272da2e1d7</td>\n",
       "      <td>NaN</td>\n",
       "      <td>NaN</td>\n",
       "      <td>NaN</td>\n",
       "      <td>NaN</td>\n",
       "      <td>5.0</td>\n",
       "      <td>NaN</td>\n",
       "      <td>NaN</td>\n",
       "      <td>M</td>\n",
       "      <td>...</td>\n",
       "      <td>72000.0</td>\n",
       "      <td>5</td>\n",
       "      <td>20</td>\n",
       "      <td>10</td>\n",
       "      <td>discount</td>\n",
       "      <td>0b1e1539f2cc45b7b9fa7c272da2e1d7</td>\n",
       "      <td>1</td>\n",
       "      <td>1</td>\n",
       "      <td>0</td>\n",
       "      <td>0</td>\n",
       "    </tr>\n",
       "    <tr>\n",
       "      <th>1</th>\n",
       "      <td>0009655768c64bdeb2e877511632db8f</td>\n",
       "      <td>2298d6c36e964ae4a3e7e9706d1fb8c2</td>\n",
       "      <td>NaN</td>\n",
       "      <td>NaN</td>\n",
       "      <td>NaN</td>\n",
       "      <td>NaN</td>\n",
       "      <td>5.0</td>\n",
       "      <td>NaN</td>\n",
       "      <td>NaN</td>\n",
       "      <td>M</td>\n",
       "      <td>...</td>\n",
       "      <td>72000.0</td>\n",
       "      <td>3</td>\n",
       "      <td>7</td>\n",
       "      <td>7</td>\n",
       "      <td>discount</td>\n",
       "      <td>2298d6c36e964ae4a3e7e9706d1fb8c2</td>\n",
       "      <td>1</td>\n",
       "      <td>1</td>\n",
       "      <td>1</td>\n",
       "      <td>1</td>\n",
       "    </tr>\n",
       "    <tr>\n",
       "      <th>2</th>\n",
       "      <td>0009655768c64bdeb2e877511632db8f</td>\n",
       "      <td>2906b810c7d4411798c6938adc9daaa5</td>\n",
       "      <td>576.0</td>\n",
       "      <td>NaN</td>\n",
       "      <td>NaN</td>\n",
       "      <td>576.0</td>\n",
       "      <td>3.0</td>\n",
       "      <td>10.27</td>\n",
       "      <td>2.0</td>\n",
       "      <td>M</td>\n",
       "      <td>...</td>\n",
       "      <td>72000.0</td>\n",
       "      <td>2</td>\n",
       "      <td>10</td>\n",
       "      <td>7</td>\n",
       "      <td>discount</td>\n",
       "      <td>2906b810c7d4411798c6938adc9daaa5</td>\n",
       "      <td>1</td>\n",
       "      <td>1</td>\n",
       "      <td>0</td>\n",
       "      <td>1</td>\n",
       "    </tr>\n",
       "    <tr>\n",
       "      <th>3</th>\n",
       "      <td>0009655768c64bdeb2e877511632db8f</td>\n",
       "      <td>3f207df678b143eea3cee63160fa8bed</td>\n",
       "      <td>336.0</td>\n",
       "      <td>372.0</td>\n",
       "      <td>NaN</td>\n",
       "      <td>NaN</td>\n",
       "      <td>1.0</td>\n",
       "      <td>NaN</td>\n",
       "      <td>NaN</td>\n",
       "      <td>M</td>\n",
       "      <td>...</td>\n",
       "      <td>72000.0</td>\n",
       "      <td>0</td>\n",
       "      <td>0</td>\n",
       "      <td>4</td>\n",
       "      <td>informational</td>\n",
       "      <td>3f207df678b143eea3cee63160fa8bed</td>\n",
       "      <td>1</td>\n",
       "      <td>1</td>\n",
       "      <td>0</td>\n",
       "      <td>1</td>\n",
       "    </tr>\n",
       "    <tr>\n",
       "      <th>4</th>\n",
       "      <td>0009655768c64bdeb2e877511632db8f</td>\n",
       "      <td>4d5c57ea9a6940dd891ad53e9dbe8da0</td>\n",
       "      <td>NaN</td>\n",
       "      <td>NaN</td>\n",
       "      <td>NaN</td>\n",
       "      <td>NaN</td>\n",
       "      <td>5.0</td>\n",
       "      <td>NaN</td>\n",
       "      <td>NaN</td>\n",
       "      <td>M</td>\n",
       "      <td>...</td>\n",
       "      <td>72000.0</td>\n",
       "      <td>10</td>\n",
       "      <td>10</td>\n",
       "      <td>5</td>\n",
       "      <td>bogo</td>\n",
       "      <td>4d5c57ea9a6940dd891ad53e9dbe8da0</td>\n",
       "      <td>1</td>\n",
       "      <td>1</td>\n",
       "      <td>1</td>\n",
       "      <td>1</td>\n",
       "    </tr>\n",
       "  </tbody>\n",
       "</table>\n",
       "<p>5 rows × 23 columns</p>\n",
       "</div>"
      ],
      "text/plain": [
       "                             person                          offer_id  \\\n",
       "0  0009655768c64bdeb2e877511632db8f  0b1e1539f2cc45b7b9fa7c272da2e1d7   \n",
       "1  0009655768c64bdeb2e877511632db8f  2298d6c36e964ae4a3e7e9706d1fb8c2   \n",
       "2  0009655768c64bdeb2e877511632db8f  2906b810c7d4411798c6938adc9daaa5   \n",
       "3  0009655768c64bdeb2e877511632db8f  3f207df678b143eea3cee63160fa8bed   \n",
       "4  0009655768c64bdeb2e877511632db8f  4d5c57ea9a6940dd891ad53e9dbe8da0   \n",
       "\n",
       "   offer received  offer viewed  transaction  offer completed  label  amount  \\\n",
       "0             NaN           NaN          NaN              NaN    5.0     NaN   \n",
       "1             NaN           NaN          NaN              NaN    5.0     NaN   \n",
       "2           576.0           NaN          NaN            576.0    3.0   10.27   \n",
       "3           336.0         372.0          NaN              NaN    1.0     NaN   \n",
       "4             NaN           NaN          NaN              NaN    5.0     NaN   \n",
       "\n",
       "   reward_x gender  ...   income reward_y difficulty  duration     offer_type  \\\n",
       "0       NaN      M  ...  72000.0        5         20        10       discount   \n",
       "1       NaN      M  ...  72000.0        3          7         7       discount   \n",
       "2       2.0      M  ...  72000.0        2         10         7       discount   \n",
       "3       NaN      M  ...  72000.0        0          0         4  informational   \n",
       "4       NaN      M  ...  72000.0       10         10         5           bogo   \n",
       "\n",
       "                               id_y  web email social  mobile  \n",
       "0  0b1e1539f2cc45b7b9fa7c272da2e1d7    1     1      0       0  \n",
       "1  2298d6c36e964ae4a3e7e9706d1fb8c2    1     1      1       1  \n",
       "2  2906b810c7d4411798c6938adc9daaa5    1     1      0       1  \n",
       "3  3f207df678b143eea3cee63160fa8bed    1     1      0       1  \n",
       "4  4d5c57ea9a6940dd891ad53e9dbe8da0    1     1      1       1  \n",
       "\n",
       "[5 rows x 23 columns]"
      ]
     },
     "execution_count": 7,
     "metadata": {},
     "output_type": "execute_result"
    }
   ],
   "source": [
    "df = pd.merge(df, portfolio, left_on='offer_id', right_on='id', how='left')\n",
    "df.head()"
   ]
  },
  {
   "cell_type": "code",
   "execution_count": 8,
   "metadata": {},
   "outputs": [
    {
     "name": "stdout",
     "output_type": "stream",
     "text": [
      "<class 'pandas.core.frame.DataFrame'>\n",
      "Int64Index: 170000 entries, 0 to 169999\n",
      "Data columns (total 23 columns):\n",
      " #   Column            Non-Null Count   Dtype  \n",
      "---  ------            --------------   -----  \n",
      " 0   person            170000 non-null  object \n",
      " 1   offer_id          170000 non-null  object \n",
      " 2   offer received    63288 non-null   float64\n",
      " 3   offer viewed      49135 non-null   float64\n",
      " 4   transaction       0 non-null       float64\n",
      " 5   offer completed   28996 non-null   float64\n",
      " 6   label             170000 non-null  float64\n",
      " 7   amount            28996 non-null   float64\n",
      " 8   reward_x          28996 non-null   float64\n",
      " 9   gender            148250 non-null  object \n",
      " 10  age               148250 non-null  float64\n",
      " 11  id_x              148250 non-null  object \n",
      " 12  became_member_on  148250 non-null  object \n",
      " 13  income            148250 non-null  float64\n",
      " 14  reward_y          170000 non-null  int64  \n",
      " 15  difficulty        170000 non-null  int64  \n",
      " 16  duration          170000 non-null  int64  \n",
      " 17  offer_type        170000 non-null  object \n",
      " 18  id_y              170000 non-null  object \n",
      " 19  web               170000 non-null  int64  \n",
      " 20  email             170000 non-null  int64  \n",
      " 21  social            170000 non-null  int64  \n",
      " 22  mobile            170000 non-null  int64  \n",
      "dtypes: float64(9), int64(7), object(7)\n",
      "memory usage: 31.1+ MB\n"
     ]
    }
   ],
   "source": [
    "df.info()"
   ]
  },
  {
   "cell_type": "markdown",
   "metadata": {},
   "source": [
    "### 5b. Clean data"
   ]
  },
  {
   "cell_type": "markdown",
   "metadata": {},
   "source": [
    "After merging, drop unnecessary columns:\n",
    "- offer received, offer viewed, transaction, offer completed : **label** can replace\n",
    "- reward_y, id_x, id_y: duplicated"
   ]
  },
  {
   "cell_type": "code",
   "execution_count": 9,
   "metadata": {},
   "outputs": [],
   "source": [
    "# Drop unncessary columns\n",
    "\n",
    "dropcols = ['offer received', 'offer viewed', 'transaction', 'offer completed',\n",
    "            'reward_y', 'id_x', 'id_y']\n",
    "\n",
    "df = df.drop(columns=dropcols)\n",
    "df = df.rename(columns={'reward_x': 'reward'})"
   ]
  },
  {
   "cell_type": "code",
   "execution_count": 10,
   "metadata": {},
   "outputs": [
    {
     "name": "stdout",
     "output_type": "stream",
     "text": [
      "<class 'pandas.core.frame.DataFrame'>\n",
      "Int64Index: 170000 entries, 0 to 169999\n",
      "Data columns (total 16 columns):\n",
      " #   Column            Non-Null Count   Dtype  \n",
      "---  ------            --------------   -----  \n",
      " 0   person            170000 non-null  object \n",
      " 1   offer_id          170000 non-null  object \n",
      " 2   label             170000 non-null  float64\n",
      " 3   amount            28996 non-null   float64\n",
      " 4   reward            28996 non-null   float64\n",
      " 5   gender            148250 non-null  object \n",
      " 6   age               148250 non-null  float64\n",
      " 7   became_member_on  148250 non-null  object \n",
      " 8   income            148250 non-null  float64\n",
      " 9   difficulty        170000 non-null  int64  \n",
      " 10  duration          170000 non-null  int64  \n",
      " 11  offer_type        170000 non-null  object \n",
      " 12  web               170000 non-null  int64  \n",
      " 13  email             170000 non-null  int64  \n",
      " 14  social            170000 non-null  int64  \n",
      " 15  mobile            170000 non-null  int64  \n",
      "dtypes: float64(5), int64(6), object(5)\n",
      "memory usage: 22.0+ MB\n"
     ]
    }
   ],
   "source": [
    "df.info()"
   ]
  },
  {
   "cell_type": "markdown",
   "metadata": {},
   "source": [
    "Further feature cleaning\n",
    "- **amount** and **reward** are null when there is no transaction: fill the missing values with 0\n",
    "- demographic information are missing for some persons (21,750, 12.7% of the total data) : drop them as there are not much of data to use for imputation"
   ]
  },
  {
   "cell_type": "code",
   "execution_count": 11,
   "metadata": {},
   "outputs": [],
   "source": [
    "# Fill missing amount and reweard values with 0 \n",
    "\n",
    "df['amount'] = df['amount'].fillna(0)\n",
    "df['reward'] = df['reward'].fillna(0)"
   ]
  },
  {
   "cell_type": "code",
   "execution_count": 12,
   "metadata": {},
   "outputs": [
    {
     "data": {
      "text/plain": [
       "(148250, 16)"
      ]
     },
     "execution_count": 12,
     "metadata": {},
     "output_type": "execute_result"
    }
   ],
   "source": [
    "# Drop records with missing demo values \n",
    "\n",
    "df = df[df['gender'].notnull()]\n",
    "df.shape"
   ]
  },
  {
   "cell_type": "code",
   "execution_count": 13,
   "metadata": {},
   "outputs": [
    {
     "data": {
      "text/plain": [
       "person              0\n",
       "offer_id            0\n",
       "label               0\n",
       "amount              0\n",
       "reward              0\n",
       "gender              0\n",
       "age                 0\n",
       "became_member_on    0\n",
       "income              0\n",
       "difficulty          0\n",
       "duration            0\n",
       "offer_type          0\n",
       "web                 0\n",
       "email               0\n",
       "social              0\n",
       "mobile              0\n",
       "dtype: int64"
      ]
     },
     "execution_count": 13,
     "metadata": {},
     "output_type": "execute_result"
    }
   ],
   "source": [
    "df.isnull().sum()"
   ]
  },
  {
   "cell_type": "markdown",
   "metadata": {
    "tags": []
   },
   "source": [
    "#### Continue with future cleaning\n",
    "\n",
    "**target variable** : `label` \n",
    "- Create the subset dataframe excluding **unsent** offer status\n",
    "\n",
    "**predictors**\n",
    "- drop **person** column: too specific to use an individual person as a feature\n",
    "- drop **offer_id** : shares the same information as **offer_type**\n",
    "- convert **gender** and **offer_type** into dummy variables (avoid reduncy or [dummy variable trap](https://www.geeksforgeeks.org/ml-dummy-variable-trap-in-regression-models/))\n",
    "- transform **became_member_on** into numeric value: The most recent record is 2018-07-26. Create **recency** variable - suppose that this analysis was performed on '2019-01-01', calculate days difference from this reference date"
   ]
  },
  {
   "cell_type": "code",
   "execution_count": 14,
   "metadata": {},
   "outputs": [],
   "source": [
    "# Futher processing for predictors\n",
    "# Drop person, offer_id features\n",
    "\n",
    "df = df.drop(columns=['person', 'offer_id'])"
   ]
  },
  {
   "cell_type": "code",
   "execution_count": 15,
   "metadata": {},
   "outputs": [],
   "source": [
    "# Make dummy variables for gender and offer_type  \n",
    "\n",
    "df = pd.concat([df, pd.get_dummies(df.gender, drop_first=True)], axis=1)\n",
    "df = pd.concat([df, pd.get_dummies(df.offer_type, drop_first=True)], axis=1)"
   ]
  },
  {
   "cell_type": "code",
   "execution_count": 16,
   "metadata": {},
   "outputs": [],
   "source": [
    "# Convert into clear feature names\n",
    "\n",
    "df = df.rename(columns={'M' : 'gender_male', 'O': 'gender_other'})\n",
    "df = df.drop(columns=['gender', 'offer_type'])"
   ]
  },
  {
   "cell_type": "code",
   "execution_count": 17,
   "metadata": {},
   "outputs": [],
   "source": [
    "# Compute recency \n",
    "\n",
    "def calculate_recency(date):\n",
    "    \n",
    "    ref_date = datetime.date(2019,1,1)\n",
    "    date_obj = datetime.datetime.strptime(date, '%Y-%m-%d').date()\n",
    "        \n",
    "    recency = ref_date - date_obj\n",
    "    recency = int(recency.days)\n",
    "    \n",
    "    return recency\n",
    "\n",
    "df['recency'] = df['became_member_on'].apply(calculate_recency)\n",
    "df = df.drop(columns='became_member_on')"
   ]
  },
  {
   "cell_type": "code",
   "execution_count": 18,
   "metadata": {},
   "outputs": [
    {
     "name": "stdout",
     "output_type": "stream",
     "text": [
      "<class 'pandas.core.frame.DataFrame'>\n",
      "Int64Index: 148250 entries, 0 to 169999\n",
      "Data columns (total 16 columns):\n",
      " #   Column         Non-Null Count   Dtype  \n",
      "---  ------         --------------   -----  \n",
      " 0   label          148250 non-null  float64\n",
      " 1   amount         148250 non-null  float64\n",
      " 2   reward         148250 non-null  float64\n",
      " 3   age            148250 non-null  float64\n",
      " 4   income         148250 non-null  float64\n",
      " 5   difficulty     148250 non-null  int64  \n",
      " 6   duration       148250 non-null  int64  \n",
      " 7   web            148250 non-null  int64  \n",
      " 8   email          148250 non-null  int64  \n",
      " 9   social         148250 non-null  int64  \n",
      " 10  mobile         148250 non-null  int64  \n",
      " 11  gender_male    148250 non-null  uint8  \n",
      " 12  gender_other   148250 non-null  uint8  \n",
      " 13  discount       148250 non-null  uint8  \n",
      " 14  informational  148250 non-null  uint8  \n",
      " 15  recency        148250 non-null  int64  \n",
      "dtypes: float64(5), int64(7), uint8(4)\n",
      "memory usage: 15.3 MB\n"
     ]
    }
   ],
   "source": [
    "df.info()"
   ]
  },
  {
   "cell_type": "code",
   "execution_count": 19,
   "metadata": {},
   "outputs": [],
   "source": [
    "# Save the final data\n",
    "\n",
    "df.to_csv('data/starbucks_data_final.csv', index=False)"
   ]
  },
  {
   "cell_type": "markdown",
   "metadata": {},
   "source": [
    "### 5c. Create train, test set\n",
    "Normally, train and test sets are randomly split. However, in this project, a different approach will be taken.\n",
    "\n",
    "Label 5 corresponds to **not received**. In other words, they represent unsent offers and cannot possibly tell customer behaviours. I will set these data records aside, and use it to . This process is not ideal as it reduces train set significantly given a large proportion of the unsent offer data. However, using unsent offers in the training does not make sense anyways."
   ]
  },
  {
   "cell_type": "code",
   "execution_count": 20,
   "metadata": {},
   "outputs": [],
   "source": [
    "# Reload the final dataset\n",
    "\n",
    "df = pd.read_csv('data/starbucks_data_final.csv')"
   ]
  },
  {
   "cell_type": "code",
   "execution_count": 21,
   "metadata": {},
   "outputs": [
    {
     "name": "stdout",
     "output_type": "stream",
     "text": [
      "Development data size: 55222\n",
      "Out of bag data size: 93028\n"
     ]
    }
   ],
   "source": [
    "# Divide data for dev_set and out of bag sets\n",
    "\n",
    "dev_set = df.query('label != 5')\n",
    "oob_set = df.query('label == 5')\n",
    "print('Development data size:', dev_set.shape[0])\n",
    "print('Out of bag data size:', oob_set.shape[0])\n",
    "\n",
    "X = dev_set.drop(columns='label')\n",
    "y = dev_set['label']"
   ]
  },
  {
   "cell_type": "code",
   "execution_count": 22,
   "metadata": {},
   "outputs": [
    {
     "name": "stdout",
     "output_type": "stream",
     "text": [
      "X train size: 44177\n",
      "y train size: 44177\n",
      "X test size: 11045\n",
      "y test size: 11045\n"
     ]
    }
   ],
   "source": [
    "# Train and test split with data set for development (dev_set) \n",
    "\n",
    "X_train, X_test, y_train, y_test = train_test_split(X, y, test_size=0.2, random_state=123)\n",
    "print('X train size:', X_train.shape[0])\n",
    "print('y train size:', y_train.shape[0])\n",
    "print('X test size:', X_test.shape[0])\n",
    "print('y test size:', y_test.shape[0])"
   ]
  },
  {
   "cell_type": "markdown",
   "metadata": {},
   "source": [
    "### 5d. Handle imbalanced label\n",
    "The completion will be classified into 4 classes. In order to avoid label imbalance issue, invariant metric will be introduced. In case that labels are not balance, the model may end up performing poorly on a minority label better and will product biased classification results."
   ]
  },
  {
   "cell_type": "code",
   "execution_count": 23,
   "metadata": {},
   "outputs": [
    {
     "data": {
      "image/png": "[encoded data removed]",
      "text/plain": [
       "<Figure size 432x288 with 1 Axes>"
      ]
     },
     "metadata": {
      "needs_background": "light"
     },
     "output_type": "display_data"
    }
   ],
   "source": [
    "# Plot to see the imbalance issue\n",
    "\n",
    "sns.countplot(x = y_train);"
   ]
  },
  {
   "cell_type": "markdown",
   "metadata": {},
   "source": [
    "The labels are highly imbalanced with a lot of Label 1 (completed) existing in the training set. Before modeling, I will create two different train sets with oversampling and undersampling using **imbalanced-learn** Python library.\n",
    "\n",
    "- Oversampling: \n",
    "[Reference](https://machinelearningmastery.com/multi-class-imbalanced-classification/)\n",
    "\n",
    "By default, the library uses SMOTE (Synthetic Minority Oversampling Technique) that will oversample(synthesizes) minority classes so all labels share the same number of examples as the class with the most examples.\n",
    "\n",
    "- Undersampling:\n",
    "[Reference](https://machinelearningmastery.com/undersampling-algorithms-for-imbalanced-classification/)"
   ]
  },
  {
   "cell_type": "code",
   "execution_count": 24,
   "metadata": {},
   "outputs": [],
   "source": [
    "# Function to apply SMOTE\n",
    "\n",
    "def oversample_data(X, y, return_results=True):\n",
    "    oversample = SMOTE()\n",
    "    X_train, y_train = oversample.fit_resample(X, y)\n",
    "    # summarize distribution\n",
    "    counter = Counter(y_train)\n",
    "    \n",
    "    for k, v in counter.items():\n",
    "        per = v / len(y_train) * 100\n",
    "        print('Class=%d, n=%d (%.3f%%)' % (k, v, per))\n",
    "    \n",
    "    if return_results:\n",
    "        # plot the distribution\n",
    "        plt.bar(counter.keys(), counter.values())\n",
    "        plt.show()\n",
    "    \n",
    "    return X_train, y_train\n",
    "    "
   ]
  },
  {
   "cell_type": "code",
   "execution_count": 25,
   "metadata": {},
   "outputs": [
    {
     "name": "stdout",
     "output_type": "stream",
     "text": [
      "Class=3, n=22305 (25.000%)\n",
      "Class=2, n=22305 (25.000%)\n",
      "Class=1, n=22305 (25.000%)\n",
      "Class=4, n=22305 (25.000%)\n"
     ]
    },
    {
     "data": {
      "image/png": "[encoded data removed]",
      "text/plain": [
       "<Figure size 432x288 with 1 Axes>"
      ]
     },
     "metadata": {
      "needs_background": "light"
     },
     "output_type": "display_data"
    }
   ],
   "source": [
    "# Oversample training set\n",
    "\n",
    "X_train_over, y_train_over = oversample_data(X_train, y_train)"
   ]
  },
  {
   "cell_type": "code",
   "execution_count": 26,
   "metadata": {},
   "outputs": [],
   "source": [
    "def undersample_data(X, y, return_results=True):\n",
    "        \n",
    "    # define the undersampling method\n",
    "    undersample = NearMiss(version=1)\n",
    "    X_train, y_train = undersample.fit_resample(X, y)\n",
    "    \n",
    "    counter = Counter(y_train)\n",
    "    \n",
    "    for k, v in counter.items():\n",
    "        per = v / len(y_train) * 100\n",
    "        print('Class=%d, n=%d (%.3f%%)' % (k, v, per))\n",
    "    \n",
    "    if return_results:\n",
    "        # plot the distribution\n",
    "        plt.bar(counter.keys(), counter.values())\n",
    "        plt.show()\n",
    "    \n",
    "    return X_train, y_train\n"
   ]
  },
  {
   "cell_type": "code",
   "execution_count": 27,
   "metadata": {},
   "outputs": [
    {
     "name": "stdout",
     "output_type": "stream",
     "text": [
      "Class=1, n=6500 (25.000%)\n",
      "Class=2, n=6500 (25.000%)\n",
      "Class=3, n=6500 (25.000%)\n",
      "Class=4, n=6500 (25.000%)\n"
     ]
    },
    {
     "data": {
      "image/png": "[encoded data removed]",
      "text/plain": [
       "<Figure size 432x288 with 1 Axes>"
      ]
     },
     "metadata": {
      "needs_background": "light"
     },
     "output_type": "display_data"
    }
   ],
   "source": [
    "# Undersample training set\n",
    "\n",
    "X_train_under, y_train_under = undersample_data(X_train, y_train)"
   ]
  },
  {
   "cell_type": "markdown",
   "metadata": {},
   "source": [
    "---\n",
    "\n",
    "<a id=\"model\"></a>\n",
    "## SECTION6 Modeling\n",
    "\n",
    "I would like to build a classifier model to predict offer completion given a set of variables, such as demogrpahics, offer types, channels, etc.\n",
    "\n",
    "Each model will have a different classification algorithm and will be fit with three different data sets with\n",
    "- oversampled labels (_over)\n",
    "- undersampled labels (_under)"
   ]
  },
  {
   "cell_type": "code",
   "execution_count": 28,
   "metadata": {},
   "outputs": [],
   "source": [
    "# Function to evaluate training\n",
    "\n",
    "def scale_predictors(X_train, X_test, returen_s):\n",
    "    ''' Using the statistics from X_train, \n",
    "    standardize the values in the training sets.\n",
    "    \n",
    "    INPUT: \n",
    "        X_train: X predictors in the train set\n",
    "        X_test: X predictors in the test set\n",
    "    \n",
    "    OUTPUT:\n",
    "        X_train, X_test: scaled predictors\n",
    "    \n",
    "    '''\n",
    "    \n",
    "    # Instantiate scaler\n",
    "    scaler = StandardScaler()\n",
    "    \n",
    "    # Fit and tranform X_train \n",
    "    X_train_scaled = scaler.fit_transform(X_train) # fitting training set only     \n",
    "    \n",
    "    # Transform X_test     \n",
    "    X_test_scaled = scaler.transform(X_test) \n",
    "    \n",
    "    return X_train_scaled, X_test_scaled\n",
    "    \n",
    "    \n",
    "    \n",
    "def model_predict(model, X_test):\n",
    "    ''' Run predictions for a fitted classifer model\n",
    "    \n",
    "    INPUT:\n",
    "        model: a fitted classifer model\n",
    "        X_test: test features used for prediction\n",
    "        \n",
    "    OUTPUT:\n",
    "        y_pred: the predicted target variable\n",
    "        \n",
    "    '''\n",
    "    \n",
    "    # Make predictions\n",
    "    y_pred = model.predict(X_test)\n",
    "    \n",
    "    return y_pred\n",
    "\n",
    "\n",
    "def evaluate_model(y_test, y_pred):\n",
    "    ''' Show test scores for classification as one go\n",
    "    by combining accuracy score and classification report.\n",
    "    \n",
    "    INPUT: \n",
    "        model: the classifier model that fit training sets\n",
    "        y_test: a true y test values\n",
    "        y_pred: a predicted y values\n",
    "        \n",
    "    OUTPUT:\n",
    "        None\n",
    "        \n",
    "    '''\n",
    "       \n",
    "    # Get test scores\n",
    "    print(f'Accuracy score: {accuracy_score(y_test, y_pred) * 100:.2f}%')\n",
    "    print(f'Classfication report:\\n')\n",
    "    print(classification_report(y_test, y_pred))\n",
    "    "
   ]
  },
  {
   "cell_type": "markdown",
   "metadata": {},
   "source": [
    "### 5a. Scale predictors\n",
    "Each feature has different units and ranges of values. Scaling will make the model trained more effectively."
   ]
  },
  {
   "cell_type": "code",
   "execution_count": 29,
   "metadata": {},
   "outputs": [
    {
     "name": "stdout",
     "output_type": "stream",
     "text": [
      "X train size (oversampled): 89220\n",
      "X train size (oversampled): 11045\n",
      "X test size (undersampled): 26000\n",
      "X test size (undersampled): 11045\n"
     ]
    }
   ],
   "source": [
    "# Scale predictors for both train and test set \n",
    "\n",
    "X_train_over, X_test_over = scale_predictors(X_train_over, X_test)\n",
    "X_train_under, X_test_under = scale_predictors(X_train_under, X_test)\n",
    "print('X train size (oversampled):', X_train_over.shape[0])\n",
    "print('X train size (oversampled):', X_test_over.shape[0])\n",
    "print('X test size (undersampled):', X_train_under.shape[0])\n",
    "print('X test size (undersampled):', X_test_under.shape[0]) # same as X_test_over"
   ]
  },
  {
   "cell_type": "markdown",
   "metadata": {},
   "source": [
    "### 5b. model_01 logistic regression"
   ]
  },
  {
   "cell_type": "code",
   "execution_count": 30,
   "metadata": {},
   "outputs": [
    {
     "data": {
      "text/plain": [
       "LogisticRegression(max_iter=1000, random_state=123)"
      ]
     },
     "execution_count": 30,
     "metadata": {},
     "output_type": "execute_result"
    }
   ],
   "source": [
    "# Fitting the model \n",
    "# model_01o : oversampled\n",
    "\n",
    "model_01o = LogisticRegression(random_state=123, max_iter=1000)\n",
    "model_01o.fit(X_train_over, y_train_over)"
   ]
  },
  {
   "cell_type": "code",
   "execution_count": 31,
   "metadata": {},
   "outputs": [],
   "source": [
    "# Make predictions on train and test set\n",
    "\n",
    "ypred_01o_train = model_predict(model_01o, X_train_over)\n",
    "ypred_01o_test = model_predict(model_01o, X_test_over)"
   ]
  },
  {
   "cell_type": "code",
   "execution_count": 32,
   "metadata": {},
   "outputs": [
    {
     "name": "stdout",
     "output_type": "stream",
     "text": [
      "Accuracy score: 80.29%\n",
      "Classfication report:\n",
      "\n",
      "              precision    recall  f1-score   support\n",
      "\n",
      "         1.0       0.80      0.66      0.73     22305\n",
      "         2.0       0.94      0.76      0.84     22305\n",
      "         3.0       0.79      0.87      0.82     22305\n",
      "         4.0       0.73      0.93      0.82     22305\n",
      "\n",
      "    accuracy                           0.80     89220\n",
      "   macro avg       0.82      0.80      0.80     89220\n",
      "weighted avg       0.82      0.80      0.80     89220\n",
      "\n",
      "Accuracy score: 72.57%\n",
      "Classfication report:\n",
      "\n",
      "              precision    recall  f1-score   support\n",
      "\n",
      "         1.0       0.86      0.66      0.75      5573\n",
      "         2.0       0.93      0.82      0.87      2203\n",
      "         3.0       0.46      0.69      0.56      1606\n",
      "         4.0       0.59      0.85      0.69      1663\n",
      "\n",
      "    accuracy                           0.73     11045\n",
      "   macro avg       0.71      0.76      0.72     11045\n",
      "weighted avg       0.77      0.73      0.74     11045\n",
      "\n"
     ]
    }
   ],
   "source": [
    "# Evaluate the model performance\n",
    "\n",
    "evaluate_model(y_train_over, ypred_01o_train)\n",
    "evaluate_model(y_test, ypred_01o_test)"
   ]
  },
  {
   "cell_type": "code",
   "execution_count": 33,
   "metadata": {},
   "outputs": [
    {
     "data": {
      "text/plain": [
       "LogisticRegression(max_iter=1000, random_state=123)"
      ]
     },
     "execution_count": 33,
     "metadata": {},
     "output_type": "execute_result"
    }
   ],
   "source": [
    "# Fitting the model \n",
    "# model_01u : undersampled\n",
    "\n",
    "model_01u = LogisticRegression(random_state=123, max_iter=1000)\n",
    "model_01u.fit(X_train_under, y_train_under)"
   ]
  },
  {
   "cell_type": "code",
   "execution_count": 34,
   "metadata": {
    "scrolled": true
   },
   "outputs": [],
   "source": [
    "# Make predictions on train and test set\n",
    "\n",
    "ypred_01u_train = model_predict(model_01u, X_train_under)\n",
    "ypred_01u_test = model_predict(model_01u, X_test_under)"
   ]
  },
  {
   "cell_type": "code",
   "execution_count": 35,
   "metadata": {},
   "outputs": [
    {
     "name": "stdout",
     "output_type": "stream",
     "text": [
      "Accuracy score: 78.45%\n",
      "Classfication report:\n",
      "\n",
      "              precision    recall  f1-score   support\n",
      "\n",
      "         1.0       0.69      0.72      0.70      6500\n",
      "         2.0       0.92      0.82      0.87      6500\n",
      "         3.0       0.74      0.68      0.71      6500\n",
      "         4.0       0.81      0.91      0.86      6500\n",
      "\n",
      "    accuracy                           0.78     26000\n",
      "   macro avg       0.79      0.78      0.78     26000\n",
      "weighted avg       0.79      0.78      0.78     26000\n",
      "\n",
      "Accuracy score: 69.02%\n",
      "Classfication report:\n",
      "\n",
      "              precision    recall  f1-score   support\n",
      "\n",
      "         1.0       0.86      0.57      0.69      5573\n",
      "         2.0       0.93      0.82      0.87      2203\n",
      "         3.0       0.48      0.69      0.56      1606\n",
      "         4.0       0.49      0.91      0.64      1663\n",
      "\n",
      "    accuracy                           0.69     11045\n",
      "   macro avg       0.69      0.75      0.69     11045\n",
      "weighted avg       0.76      0.69      0.70     11045\n",
      "\n"
     ]
    }
   ],
   "source": [
    "# Evaluate the model performance\n",
    "\n",
    "evaluate_model(y_train_under, ypred_01u_train)\n",
    "evaluate_model(y_test, ypred_01u_test)"
   ]
  },
  {
   "cell_type": "markdown",
   "metadata": {},
   "source": [
    "Not extremely bad score for all metrics for the first model (test accuracy around 73%). However, overfitting exists and there still is a room to improve seeing lower f1-score for label 3 and 4 classification with the test set. Between the two sampling methods, the model with overasmpled dataset produced slightly higher accuracy for both train and test set.\n",
    "\n",
    "Nevertheless, training accuracy still is around 80%, which suggests that model itself can be improved more. Let's use other machine learning classifiers."
   ]
  },
  {
   "cell_type": "markdown",
   "metadata": {},
   "source": [
    "#### Feature importance\n",
    "When fitting the logistic regression model, features were selected based on availability and relevance. Let's see how the model evaluates the importance of each feature by comparing the coefficients of each feature."
   ]
  },
  {
   "cell_type": "code",
   "execution_count": 92,
   "metadata": {},
   "outputs": [],
   "source": [
    "# Get the feature names \n",
    "feature_names = X.columns.tolist()\n",
    "\n",
    "def plot_feature_importances(series, c):\n",
    "        \n",
    "    plt.barh(series.index, series.Importance, color=c) \n",
    "    plt.axvline(x=0, color='.5')\n",
    "    plt.xlabel('coefficient')\n",
    "    plt.ylabel('feature')        \n",
    "    \n",
    "    \n",
    "def feature_importance(model, feature_names, plot_result=True):\n",
    "    ''' Find the importance of each features by coefficients.\n",
    "    The highest coefficient corresponds to the most importance feature here.\n",
    "    \n",
    "    The computed result will be proportional to the highest coefficient value \n",
    "    amont the features. Therefore, the most important feature should return 1.0.    \n",
    "    \n",
    "    \n",
    "    If plot_result=True, horizional barplot will be returned instead of dataframe.\n",
    "    \n",
    "    '''\n",
    "    \n",
    "    coefs = model.coef_[0]\n",
    "    coefs_prop = 100.0 * (coefs / coefs.max())\n",
    "    \n",
    "    result = pd.DataFrame(index=feature_names, data=coefs_prop)    \n",
    "    result.columns = ['Importance']\n",
    "    result = result.sort_values(by='Importance', ascending=False)\n",
    "    \n",
    "    if plot_result:\n",
    "        \n",
    "        pos_data = result[result.Importance >= 0]\n",
    "        neg_data = result[result.Importance < 0]\n",
    "        \n",
    "        plt.figure(figsize=(10,6))\n",
    "        plot_feature_importances(pos_data, 'b')\n",
    "        plot_feature_importances(neg_data, 'r')        \n",
    "        plt.show()\n",
    "        \n",
    "    else:\n",
    "        return feature_importance\n",
    "    "
   ]
  },
  {
   "cell_type": "code",
   "execution_count": 93,
   "metadata": {},
   "outputs": [
    {
     "data": {
      "image/png": "[encoded data removed]",
      "text/plain": [
       "<Figure size 720x432 with 1 Axes>"
      ]
     },
     "metadata": {
      "needs_background": "light"
     },
     "output_type": "display_data"
    }
   ],
   "source": [
    "feature_importance(model_01o, feature_names)"
   ]
  },
  {
   "cell_type": "markdown",
   "metadata": {},
   "source": [
    "The feature importance chart tells that types and channels related to each offer contributes more to predicting completion, rather than demographic features like age or income. The earlier exploratory analysis suggested these demographic factors would play a role no matter how significant. Let's continue with another model and evaluate the feature importance."
   ]
  },
  {
   "cell_type": "markdown",
   "metadata": {},
   "source": [
    "### 5c. model_02 decision tree "
   ]
  },
  {
   "cell_type": "code",
   "execution_count": 76,
   "metadata": {},
   "outputs": [
    {
     "data": {
      "text/plain": [
       "DecisionTreeClassifier(max_depth=12)"
      ]
     },
     "execution_count": 76,
     "metadata": {},
     "output_type": "execute_result"
    }
   ],
   "source": [
    "# Fitting the model\n",
    "# model_02o : oversampled\n",
    "\n",
    "model_02o = DecisionTreeClassifier(max_depth=12)\n",
    "model_02o.fit(X_train_over, y_train_over)"
   ]
  },
  {
   "cell_type": "code",
   "execution_count": 77,
   "metadata": {},
   "outputs": [],
   "source": [
    "# Make predictions on train and test set\n",
    "\n",
    "ypred_02o_train = model_predict(model_02o, X_train_over)\n",
    "ypred_02o_test = model_predict(model_02o, X_test_over)"
   ]
  },
  {
   "cell_type": "code",
   "execution_count": 78,
   "metadata": {},
   "outputs": [
    {
     "name": "stdout",
     "output_type": "stream",
     "text": [
      "Accuracy score: 85.82%\n",
      "Classfication report:\n",
      "\n",
      "              precision    recall  f1-score   support\n",
      "\n",
      "         1.0       0.80      0.84      0.82     22305\n",
      "         2.0       0.92      0.87      0.89     22305\n",
      "         3.0       0.89      0.85      0.87     22305\n",
      "         4.0       0.83      0.88      0.85     22305\n",
      "\n",
      "    accuracy                           0.86     89220\n",
      "   macro avg       0.86      0.86      0.86     89220\n",
      "weighted avg       0.86      0.86      0.86     89220\n",
      "\n",
      "Accuracy score: 76.13%\n",
      "Classfication report:\n",
      "\n",
      "              precision    recall  f1-score   support\n",
      "\n",
      "         1.0       0.81      0.82      0.81      5573\n",
      "         2.0       0.89      0.88      0.88      2203\n",
      "         3.0       0.54      0.51      0.53      1606\n",
      "         4.0       0.65      0.67      0.66      1663\n",
      "\n",
      "    accuracy                           0.76     11045\n",
      "   macro avg       0.72      0.72      0.72     11045\n",
      "weighted avg       0.76      0.76      0.76     11045\n",
      "\n"
     ]
    }
   ],
   "source": [
    "# Evaluate the model performance\n",
    "\n",
    "evaluate_model(y_train_over, ypred_02o_train)\n",
    "evaluate_model(y_test, ypred_02o_test)"
   ]
  },
  {
   "cell_type": "code",
   "execution_count": 79,
   "metadata": {},
   "outputs": [
    {
     "data": {
      "text/plain": [
       "DecisionTreeClassifier(max_depth=12)"
      ]
     },
     "execution_count": 79,
     "metadata": {},
     "output_type": "execute_result"
    }
   ],
   "source": [
    "# Fitting the model \n",
    "# model_02u : undersampled\n",
    "\n",
    "model_02u = DecisionTreeClassifier(max_depth=12)\n",
    "model_02u.fit(X_train_under, y_train_under)"
   ]
  },
  {
   "cell_type": "code",
   "execution_count": 80,
   "metadata": {},
   "outputs": [],
   "source": [
    "# Make predictions on train and test set\n",
    "\n",
    "ypred_02u_train = model_predict(model_02u, X_train_under)\n",
    "ypred_02u_test = model_predict(model_02u, X_test_under)"
   ]
  },
  {
   "cell_type": "code",
   "execution_count": 81,
   "metadata": {},
   "outputs": [
    {
     "name": "stdout",
     "output_type": "stream",
     "text": [
      "Accuracy score: 83.56%\n",
      "Classfication report:\n",
      "\n",
      "              precision    recall  f1-score   support\n",
      "\n",
      "         1.0       0.73      0.83      0.78      6500\n",
      "         2.0       0.91      0.91      0.91      6500\n",
      "         3.0       0.82      0.70      0.76      6500\n",
      "         4.0       0.89      0.90      0.90      6500\n",
      "\n",
      "    accuracy                           0.84     26000\n",
      "   macro avg       0.84      0.84      0.84     26000\n",
      "weighted avg       0.84      0.84      0.84     26000\n",
      "\n",
      "Accuracy score: 66.34%\n",
      "Classfication report:\n",
      "\n",
      "              precision    recall  f1-score   support\n",
      "\n",
      "         1.0       0.83      0.55      0.66      5573\n",
      "         2.0       0.90      0.84      0.87      2203\n",
      "         3.0       0.43      0.63      0.51      1606\n",
      "         4.0       0.48      0.85      0.61      1663\n",
      "\n",
      "    accuracy                           0.66     11045\n",
      "   macro avg       0.66      0.72      0.66     11045\n",
      "weighted avg       0.73      0.66      0.67     11045\n",
      "\n"
     ]
    }
   ],
   "source": [
    "# Evaluate the model performance\n",
    "\n",
    "evaluate_model(y_train_under, ypred_02u_train)\n",
    "evaluate_model(y_test, ypred_02u_test)"
   ]
  },
  {
   "cell_type": "markdown",
   "metadata": {},
   "source": [
    "With the decision tree model, test accuracy increased from 73% to 76% only when oversampling technique is applied. Undersampling technique produced zero division error for precision, implying zero instances of positive prediction for label 2."
   ]
  },
  {
   "cell_type": "markdown",
   "metadata": {},
   "source": [
    "#### Feature importance\n",
    "Sklearn's decision tree API has a built-in feature importance feature."
   ]
  },
  {
   "cell_type": "code",
   "execution_count": 94,
   "metadata": {},
   "outputs": [
    {
     "data": {
      "image/png": "[encoded data removed]",
      "text/plain": [
       "<Figure size 720x432 with 1 Axes>"
      ]
     },
     "metadata": {
      "needs_background": "light"
     },
     "output_type": "display_data"
    }
   ],
   "source": [
    "# The built-in method produces feature importances that are > 0\n",
    "\n",
    "feature_result = pd.DataFrame(index=feature_names, data=model_02o.feature_importances_)    \n",
    "feature_result.columns = ['Importance']\n",
    "feature_result = feature_result.sort_values(by='Importance', ascending=False)\n",
    "\n",
    "plt.figure(figsize=(10,6))\n",
    "plot_feature_importances(feature_result, c='b')\n",
    "plt.show()"
   ]
  },
  {
   "cell_type": "markdown",
   "metadata": {},
   "source": [
    "In the decision tree, demographic factors like income and age contributed more to predicting the offer completion. **reward**, **social** and **duration**, however, are seen more important predictors."
   ]
  },
  {
   "cell_type": "markdown",
   "metadata": {},
   "source": [
    "### 5d. Model_03 random forecast classifier"
   ]
  },
  {
   "cell_type": "code",
   "execution_count": 95,
   "metadata": {},
   "outputs": [
    {
     "data": {
      "text/plain": [
       "RandomForestClassifier(max_depth=12)"
      ]
     },
     "execution_count": 95,
     "metadata": {},
     "output_type": "execute_result"
    }
   ],
   "source": [
    "# Fitting the model\n",
    "# model_03o : oversampled\n",
    "\n",
    "model_03o = RandomForestClassifier(max_depth=12)\n",
    "model_03o.fit(X_train_over, y_train_over)"
   ]
  },
  {
   "cell_type": "code",
   "execution_count": 96,
   "metadata": {},
   "outputs": [],
   "source": [
    "# Make predictions on train and test set\n",
    "\n",
    "ypred_03o_train = model_predict(model_03o, X_train_over)\n",
    "ypred_03o_test = model_predict(model_03o, X_test_over)"
   ]
  },
  {
   "cell_type": "code",
   "execution_count": 97,
   "metadata": {},
   "outputs": [
    {
     "name": "stdout",
     "output_type": "stream",
     "text": [
      "Accuracy score: 86.02%\n",
      "Classfication report:\n",
      "\n",
      "              precision    recall  f1-score   support\n",
      "\n",
      "         1.0       0.82      0.81      0.81     22305\n",
      "         2.0       0.94      0.87      0.90     22305\n",
      "         3.0       0.86      0.86      0.86     22305\n",
      "         4.0       0.83      0.90      0.86     22305\n",
      "\n",
      "    accuracy                           0.86     89220\n",
      "   macro avg       0.86      0.86      0.86     89220\n",
      "weighted avg       0.86      0.86      0.86     89220\n",
      "\n",
      "Accuracy score: 77.41%\n",
      "Classfication report:\n",
      "\n",
      "              precision    recall  f1-score   support\n",
      "\n",
      "         1.0       0.83      0.80      0.82      5573\n",
      "         2.0       0.92      0.86      0.89      2203\n",
      "         3.0       0.55      0.59      0.57      1606\n",
      "         4.0       0.66      0.74      0.70      1663\n",
      "\n",
      "    accuracy                           0.77     11045\n",
      "   macro avg       0.74      0.75      0.74     11045\n",
      "weighted avg       0.78      0.77      0.78     11045\n",
      "\n"
     ]
    }
   ],
   "source": [
    "# Evaluate the model performance\n",
    "\n",
    "evaluate_model(y_train_over, ypred_03o_train)\n",
    "evaluate_model(y_test, ypred_03o_test)"
   ]
  },
  {
   "cell_type": "code",
   "execution_count": 98,
   "metadata": {},
   "outputs": [
    {
     "data": {
      "text/plain": [
       "DecisionTreeClassifier(max_depth=12)"
      ]
     },
     "execution_count": 98,
     "metadata": {},
     "output_type": "execute_result"
    }
   ],
   "source": [
    "# Fitting the model \n",
    "# model_03u : undersampled\n",
    "\n",
    "model_03u = DecisionTreeClassifier(max_depth=12)\n",
    "model_03u.fit(X_train_under, y_train_under)"
   ]
  },
  {
   "cell_type": "code",
   "execution_count": 99,
   "metadata": {},
   "outputs": [],
   "source": [
    "# Make predictions on train and test set\n",
    "\n",
    "ypred_03u_train = model_predict(model_03u, X_train_under)\n",
    "ypred_03u_test = model_predict(model_03u, X_test_under)"
   ]
  },
  {
   "cell_type": "code",
   "execution_count": 100,
   "metadata": {},
   "outputs": [
    {
     "name": "stdout",
     "output_type": "stream",
     "text": [
      "Accuracy score: 83.57%\n",
      "Classfication report:\n",
      "\n",
      "              precision    recall  f1-score   support\n",
      "\n",
      "         1.0       0.73      0.83      0.78      6500\n",
      "         2.0       0.91      0.91      0.91      6500\n",
      "         3.0       0.82      0.70      0.76      6500\n",
      "         4.0       0.89      0.90      0.90      6500\n",
      "\n",
      "    accuracy                           0.84     26000\n",
      "   macro avg       0.84      0.84      0.84     26000\n",
      "weighted avg       0.84      0.84      0.84     26000\n",
      "\n",
      "Accuracy score: 66.36%\n",
      "Classfication report:\n",
      "\n",
      "              precision    recall  f1-score   support\n",
      "\n",
      "         1.0       0.82      0.55      0.66      5573\n",
      "         2.0       0.90      0.85      0.87      2203\n",
      "         3.0       0.43      0.62      0.51      1606\n",
      "         4.0       0.48      0.85      0.62      1663\n",
      "\n",
      "    accuracy                           0.66     11045\n",
      "   macro avg       0.66      0.72      0.66     11045\n",
      "weighted avg       0.73      0.66      0.67     11045\n",
      "\n"
     ]
    }
   ],
   "source": [
    "# Evaluate the model performance\n",
    "\n",
    "evaluate_model(y_train_under, ypred_03u_train)\n",
    "evaluate_model(y_test, ypred_03u_test)"
   ]
  },
  {
   "cell_type": "markdown",
   "metadata": {},
   "source": [
    "The random forest model produced slighly better test accuracy (77%) with oversampling technique than logistic regression (73%) and (76%)."
   ]
  },
  {
   "cell_type": "markdown",
   "metadata": {},
   "source": [
    "#### Feature importance"
   ]
  },
  {
   "cell_type": "code",
   "execution_count": 101,
   "metadata": {
    "jp-MarkdownHeadingCollapsed": true,
    "tags": []
   },
   "outputs": [
    {
     "data": {
      "image/png": "[encoded data removed]",
      "text/plain": [
       "<Figure size 720x432 with 1 Axes>"
      ]
     },
     "metadata": {
      "needs_background": "light"
     },
     "output_type": "display_data"
    }
   ],
   "source": [
    "feature_result = pd.DataFrame(index=feature_names, data=model_03o.feature_importances_)    \n",
    "feature_result.columns = ['Importance']\n",
    "feature_result = feature_result.sort_values(by='Importance', ascending=False)\n",
    "\n",
    "plt.figure(figsize=(10,6))\n",
    "plot_feature_importances(feature_result, c='b')\n",
    "plt.show()"
   ]
  },
  {
   "cell_type": "markdown",
   "metadata": {},
   "source": [
    "reward, amount, social, difficulty and duration plays an important role for prediction when the random forest model is used. Offer type and channel are deemed more important than demographic factors just as logistic regression model told."
   ]
  },
  {
   "cell_type": "markdown",
   "metadata": {},
   "source": [
    "### 5e. Model_04 gradient boost classifier"
   ]
  },
  {
   "cell_type": "code",
   "execution_count": 102,
   "metadata": {},
   "outputs": [
    {
     "data": {
      "text/plain": [
       "GradientBoostingClassifier()"
      ]
     },
     "execution_count": 102,
     "metadata": {},
     "output_type": "execute_result"
    }
   ],
   "source": [
    "# Fitting the model\n",
    "# model_04o : oversampled\n",
    "\n",
    "model_04o = GradientBoostingClassifier()\n",
    "model_04o.fit(X_train_over, y_train_over)"
   ]
  },
  {
   "cell_type": "code",
   "execution_count": 103,
   "metadata": {},
   "outputs": [],
   "source": [
    "# Make predictions on train and test set\n",
    "\n",
    "ypred_04o_train = model_predict(model_04o, X_train_over)\n",
    "ypred_04o_test = model_predict(model_04o, X_test_over)"
   ]
  },
  {
   "cell_type": "code",
   "execution_count": 104,
   "metadata": {},
   "outputs": [
    {
     "name": "stdout",
     "output_type": "stream",
     "text": [
      "Accuracy score: 84.36%\n",
      "Classfication report:\n",
      "\n",
      "              precision    recall  f1-score   support\n",
      "\n",
      "         1.0       0.81      0.79      0.80     22305\n",
      "         2.0       0.93      0.84      0.88     22305\n",
      "         3.0       0.85      0.86      0.85     22305\n",
      "         4.0       0.80      0.88      0.84     22305\n",
      "\n",
      "    accuracy                           0.84     89220\n",
      "   macro avg       0.85      0.84      0.84     89220\n",
      "weighted avg       0.85      0.84      0.84     89220\n",
      "\n",
      "Accuracy score: 76.70%\n",
      "Classfication report:\n",
      "\n",
      "              precision    recall  f1-score   support\n",
      "\n",
      "         1.0       0.83      0.79      0.81      5573\n",
      "         2.0       0.92      0.86      0.89      2203\n",
      "         3.0       0.53      0.60      0.56      1606\n",
      "         4.0       0.65      0.74      0.69      1663\n",
      "\n",
      "    accuracy                           0.77     11045\n",
      "   macro avg       0.73      0.75      0.74     11045\n",
      "weighted avg       0.78      0.77      0.77     11045\n",
      "\n"
     ]
    }
   ],
   "source": [
    "# Evaluate the model performance\n",
    "\n",
    "evaluate_model(y_train_over, ypred_04o_train)\n",
    "evaluate_model(y_test, ypred_04o_test)"
   ]
  },
  {
   "cell_type": "code",
   "execution_count": 105,
   "metadata": {},
   "outputs": [
    {
     "data": {
      "text/plain": [
       "GradientBoostingClassifier()"
      ]
     },
     "execution_count": 105,
     "metadata": {},
     "output_type": "execute_result"
    }
   ],
   "source": [
    "# Fitting the model \n",
    "# model_04u : undersampled\n",
    "\n",
    "model_04u = GradientBoostingClassifier()\n",
    "model_04u.fit(X_train_under, y_train_under)"
   ]
  },
  {
   "cell_type": "code",
   "execution_count": 106,
   "metadata": {},
   "outputs": [],
   "source": [
    "# Make predictions on train and test set\n",
    "\n",
    "ypred_04u_train = model_predict(model_04u, X_train_under)\n",
    "ypred_04u_test = model_predict(model_04u, X_test_under)"
   ]
  },
  {
   "cell_type": "code",
   "execution_count": 107,
   "metadata": {},
   "outputs": [
    {
     "name": "stdout",
     "output_type": "stream",
     "text": [
      "Accuracy score: 80.29%\n",
      "Classfication report:\n",
      "\n",
      "              precision    recall  f1-score   support\n",
      "\n",
      "         1.0       0.71      0.73      0.72      6500\n",
      "         2.0       0.91      0.85      0.88      6500\n",
      "         3.0       0.75      0.72      0.74      6500\n",
      "         4.0       0.84      0.90      0.87      6500\n",
      "\n",
      "    accuracy                           0.80     26000\n",
      "   macro avg       0.80      0.80      0.80     26000\n",
      "weighted avg       0.80      0.80      0.80     26000\n",
      "\n",
      "Accuracy score: 68.06%\n",
      "Classfication report:\n",
      "\n",
      "              precision    recall  f1-score   support\n",
      "\n",
      "         1.0       0.86      0.54      0.66      5573\n",
      "         2.0       0.93      0.85      0.89      2203\n",
      "         3.0       0.44      0.72      0.54      1606\n",
      "         4.0       0.51      0.89      0.65      1663\n",
      "\n",
      "    accuracy                           0.68     11045\n",
      "   macro avg       0.68      0.75      0.69     11045\n",
      "weighted avg       0.76      0.68      0.69     11045\n",
      "\n"
     ]
    }
   ],
   "source": [
    "# Evaluate the model performance\n",
    "\n",
    "evaluate_model(y_train_under, ypred_04u_train)\n",
    "evaluate_model(y_test, ypred_04u_test)"
   ]
  },
  {
   "cell_type": "markdown",
   "metadata": {},
   "source": [
    "Gradient boost classifier performed on par with random forecast (77%) with oversampling method. There still is a room for the model to improve given the training accuracy of ~85%. Let's train with the final classifier, xgboost."
   ]
  },
  {
   "cell_type": "markdown",
   "metadata": {},
   "source": [
    "### 5f. Model_05 gradient boost classifier"
   ]
  },
  {
   "cell_type": "code",
   "execution_count": 108,
   "metadata": {},
   "outputs": [
    {
     "name": "stderr",
     "output_type": "stream",
     "text": [
      "/Users/jsuk/opt/anaconda3/envs/dsenv/lib/python3.8/site-packages/xgboost/sklearn.py:1224: UserWarning: The use of label encoder in XGBClassifier is deprecated and will be removed in a future release. To remove this warning, do the following: 1) Pass option use_label_encoder=False when constructing XGBClassifier object; and 2) Encode your labels (y) as integers starting with 0, i.e. 0, 1, 2, ..., [num_class - 1].\n",
      "  warnings.warn(label_encoder_deprecation_msg, UserWarning)\n"
     ]
    },
    {
     "name": "stdout",
     "output_type": "stream",
     "text": [
      "[09:50:19] WARNING: /Users/runner/work/xgboost/xgboost/src/learner.cc:1115: Starting in XGBoost 1.3.0, the default evaluation metric used with the objective 'multi:softprob' was changed from 'merror' to 'mlogloss'. Explicitly set eval_metric if you'd like to restore the old behavior.\n"
     ]
    },
    {
     "data": {
      "text/plain": [
       "XGBClassifier(base_score=0.5, booster='gbtree', colsample_bylevel=1,\n",
       "              colsample_bynode=1, colsample_bytree=1, enable_categorical=False,\n",
       "              gamma=0, gpu_id=-1, importance_type=None,\n",
       "              interaction_constraints='', learning_rate=0.300000012,\n",
       "              max_delta_step=0, max_depth=12, min_child_weight=1, missing=nan,\n",
       "              monotone_constraints='()', n_estimators=100, n_jobs=8,\n",
       "              num_parallel_tree=1, objective='multi:softprob', predictor='auto',\n",
       "              random_state=0, reg_alpha=0, reg_lambda=1, scale_pos_weight=None,\n",
       "              subsample=1, tree_method='exact', validate_parameters=1,\n",
       "              verbosity=None)"
      ]
     },
     "execution_count": 108,
     "metadata": {},
     "output_type": "execute_result"
    }
   ],
   "source": [
    "# Fitting the model\n",
    "# model_05o : oversampled\n",
    "\n",
    "model_05o = XGBClassifier(max_depth=12)\n",
    "model_05o.fit(X_train_over, y_train_over)"
   ]
  },
  {
   "cell_type": "code",
   "execution_count": 109,
   "metadata": {},
   "outputs": [],
   "source": [
    "# Make predictions on train and test set\n",
    "\n",
    "ypred_05o_train = model_predict(model_05o, X_train_over)\n",
    "ypred_05o_test = model_predict(model_05o, X_test_over)"
   ]
  },
  {
   "cell_type": "code",
   "execution_count": 110,
   "metadata": {},
   "outputs": [
    {
     "name": "stdout",
     "output_type": "stream",
     "text": [
      "Accuracy score: 98.93%\n",
      "Classfication report:\n",
      "\n",
      "              precision    recall  f1-score   support\n",
      "\n",
      "         1.0       0.97      0.99      0.98     22305\n",
      "         2.0       1.00      1.00      1.00     22305\n",
      "         3.0       1.00      0.98      0.99     22305\n",
      "         4.0       0.99      0.99      0.99     22305\n",
      "\n",
      "    accuracy                           0.99     89220\n",
      "   macro avg       0.99      0.99      0.99     89220\n",
      "weighted avg       0.99      0.99      0.99     89220\n",
      "\n",
      "Accuracy score: 77.19%\n",
      "Classfication report:\n",
      "\n",
      "              precision    recall  f1-score   support\n",
      "\n",
      "         1.0       0.79      0.86      0.83      5573\n",
      "         2.0       0.89      0.88      0.88      2203\n",
      "         3.0       0.57      0.44      0.50      1606\n",
      "         4.0       0.69      0.64      0.66      1663\n",
      "\n",
      "    accuracy                           0.77     11045\n",
      "   macro avg       0.73      0.71      0.72     11045\n",
      "weighted avg       0.76      0.77      0.77     11045\n",
      "\n"
     ]
    }
   ],
   "source": [
    "# Evaluate the model performance\n",
    "\n",
    "evaluate_model(y_train_over, ypred_05o_train)\n",
    "evaluate_model(y_test, ypred_05o_test)"
   ]
  },
  {
   "cell_type": "code",
   "execution_count": 111,
   "metadata": {},
   "outputs": [
    {
     "data": {
      "text/plain": [
       "GradientBoostingClassifier()"
      ]
     },
     "execution_count": 111,
     "metadata": {},
     "output_type": "execute_result"
    }
   ],
   "source": [
    "# Fitting the model \n",
    "# model_05u : undersampled\n",
    "\n",
    "model_05u = GradientBoostingClassifier()\n",
    "model_05u.fit(X_train_under, y_train_under)"
   ]
  },
  {
   "cell_type": "code",
   "execution_count": 112,
   "metadata": {},
   "outputs": [],
   "source": [
    "# Make predictions on train and test set\n",
    "\n",
    "ypred_05u_train = model_predict(model_05u, X_train_under)\n",
    "ypred_05u_test = model_predict(model_05u, X_test_under)"
   ]
  },
  {
   "cell_type": "code",
   "execution_count": 113,
   "metadata": {},
   "outputs": [
    {
     "name": "stdout",
     "output_type": "stream",
     "text": [
      "Accuracy score: 80.29%\n",
      "Classfication report:\n",
      "\n",
      "              precision    recall  f1-score   support\n",
      "\n",
      "         1.0       0.71      0.73      0.72      6500\n",
      "         2.0       0.91      0.85      0.88      6500\n",
      "         3.0       0.75      0.72      0.74      6500\n",
      "         4.0       0.84      0.90      0.87      6500\n",
      "\n",
      "    accuracy                           0.80     26000\n",
      "   macro avg       0.80      0.80      0.80     26000\n",
      "weighted avg       0.80      0.80      0.80     26000\n",
      "\n",
      "Accuracy score: 68.07%\n",
      "Classfication report:\n",
      "\n",
      "              precision    recall  f1-score   support\n",
      "\n",
      "         1.0       0.86      0.54      0.66      5573\n",
      "         2.0       0.93      0.85      0.89      2203\n",
      "         3.0       0.44      0.72      0.54      1606\n",
      "         4.0       0.51      0.89      0.65      1663\n",
      "\n",
      "    accuracy                           0.68     11045\n",
      "   macro avg       0.68      0.75      0.69     11045\n",
      "weighted avg       0.76      0.68      0.69     11045\n",
      "\n"
     ]
    }
   ],
   "source": [
    "# Evaluate the model performance\n",
    "\n",
    "evaluate_model(y_train_under, ypred_05u_train)\n",
    "evaluate_model(y_test, ypred_05u_test)"
   ]
  },
  {
   "cell_type": "markdown",
   "metadata": {},
   "source": [
    "XGBoost classifier clearly overfits given the large difference in accuracy between training (99%) and test set (77%). XGboost also clearly performs better with oversampled dataset."
   ]
  },
  {
   "cell_type": "markdown",
   "metadata": {},
   "source": [
    "---\n",
    "<a id=\"final\"></a>\n",
    "## SECTION 7 Build the final model\n",
    "\n",
    "During the initial modeling phase, three machine learning classifier were used: logistic regression, decision tree, random forecast, graident boost and XGboost. The test results are summarized as following:\n",
    "\n",
    "|               Model               \t| Logistic <br>Regression \t| Decision <br>Tree \t| Random <br>Forecast \t| Gradient <br>Boosting \t| XGboost \t|\n",
    "|:---------------------------------:\t|:-----------------------:\t|:-----------------:\t|:-------------------:\t|:---------------------:\t|:-------:\t|\n",
    "| Train accuracy<br> - oversampled  \t|           81%           \t|        86%        \t|         86%         \t|          85%          \t|   99%   \t|\n",
    "| Test accuracy<br> - oversampled   \t|           73%           \t|        76%        \t|       **77%**       \t|        **77%**        \t| **77%** \t|\n",
    "| Train accuracy<br> - undersampled \t|           78%           \t|        84%        \t|         84%         \t|          80%          \t|   80%   \t|\n",
    "| Test accuracy<br> - undersampled  \t|           69%           \t|        67%        \t|         67%         \t|          68%          \t|   68%   \t|\n",
    "\n",
    "\n"
   ]
  },
  {
   "cell_type": "markdown",
   "metadata": {},
   "source": [
    "Random forest, Gradient boost and XGboost share the similar test accuracy. However, random forest will be used due to : \n",
    "- less computation than the other two\n",
    "- XGboost overfits significantly\n",
    "\n",
    "Also, oversampling method will be adopted as it performed better than undersampling for almost all classifiers."
   ]
  },
  {
   "cell_type": "markdown",
   "metadata": {},
   "source": [
    "### 7a. Functions to faciliate modeling"
   ]
  },
  {
   "cell_type": "code",
   "execution_count": 153,
   "metadata": {},
   "outputs": [],
   "source": [
    "# Function to load the data for modeling\n",
    "\n",
    "def load_data_for_modeling():\n",
    "    \n",
    "    # Load the final dataset\n",
    "    df = pd.read_csv('data/starbucks_data_final.csv')\n",
    "    \n",
    "    # Create X, y for training set\n",
    "    dev_set = df.query('label != 5')\n",
    "    X = dev_set.drop(columns='label')\n",
    "    y = dev_set['label']\n",
    "    \n",
    "    return X, y "
   ]
  },
  {
   "cell_type": "code",
   "execution_count": 158,
   "metadata": {},
   "outputs": [],
   "source": [
    "# Functions to preprocess data\n",
    "\n",
    "def oversample_data(X, y, return_results=True):\n",
    "    oversample = SMOTE()\n",
    "    X_train, y_train = oversample.fit_resample(X, y)\n",
    "    # summarize distribution\n",
    "    counter = Counter(y_train)\n",
    "    \n",
    "    for k, v in counter.items():\n",
    "        per = v / len(y_train) * 100\n",
    "        print('Class=%d, n=%d (%.3f%%)' % (k, v, per))\n",
    "    \n",
    "    if return_results:\n",
    "        # plot the distribution\n",
    "        plt.bar(counter.keys(), counter.values())\n",
    "        plt.show()\n",
    "    \n",
    "    return X_train, y_train\n",
    "    \n",
    "\n",
    "def scale_predictors(X_train, X_test):\n",
    "    ''' Using the statistics from X_train, \n",
    "    standardize the values in the training sets.\n",
    "    \n",
    "    This time the scaler used for the final model\n",
    "    will be saved for the future use.\n",
    "    \n",
    "    INPUT: \n",
    "        X_train: X predictors in the train set\n",
    "        X_test: X predictors in the test set\n",
    "    \n",
    "    OUTPUT:\n",
    "        X_train, X_test: scaled predictors\n",
    "    \n",
    "    '''\n",
    "    \n",
    "    # Instantiate scaler\n",
    "    scaler = StandardScaler()\n",
    "    \n",
    "    # Fit and tranform X_train \n",
    "    X_train_scaled = scaler.fit_transform(X_train) # fitting training set only     \n",
    "    \n",
    "    # Transform X_test     \n",
    "    X_test_scaled = scaler.transform(X_test) \n",
    "    \n",
    "    # Save the scaler    \n",
    "    # Date of build for the model name\n",
    "    date_built = datetime.date.today()\n",
    "    date_built = datetime.datetime.strftime(date_built, format='%Y-%m-%d').replace('-', '')\n",
    "    \n",
    "    with open(f'models/final_model_{date_built}_scaler', 'wb') as scaler_pkl:\n",
    "        pickle.dump(scaler, scaler_pkl)\n",
    "        print(f'Scaler stored at the path: <models/final_model_{date_built}_scaler>')    \n",
    "    \n",
    "    return X_train_scaled, X_test_scaled\n",
    "\n",
    "\n",
    "def preprocess_data(X, y):\n",
    "    # Set predictors and label \n",
    "    print('Preprocessing data...')\n",
    "    \n",
    "    # Split train and test set\n",
    "    X_train, X_test, y_train, y_test = train_test_split(X, y, test_size=0.2, random_state=123)\n",
    "    \n",
    "    # Oversample\n",
    "    print('Oversampling data...')\n",
    "    X_train, y_train = oversample_data(X_train, y_train)\n",
    "    \n",
    "    # Standardize predictors\n",
    "    X_train, X_test = scale_predictors(X_train, X_test)\n",
    "    \n",
    "    return X_train, X_test, y_train, y_test\n"
   ]
  },
  {
   "cell_type": "code",
   "execution_count": 155,
   "metadata": {},
   "outputs": [],
   "source": [
    "# Function to build model\n",
    "\n",
    "def build_final_model(model, X, y, param_grid=None, cv=5, scoring='accuracy', verbose=1):\n",
    "    ''' Fit a model given by its name. Make a prediction on the train set\n",
    "    The function requires training and test sets (scaled predictor X) and stored as global variables.\n",
    "    \n",
    "    INPUT:\n",
    "        model_name: a classification algorithm (abbreviated)\n",
    "        param_grid: A dictionary of hyperparameters. If None, skip parameter tuning.\n",
    "        random_search: \n",
    "            If True, perform random grid search. \n",
    "            If False, perform grid search to find best hyperparameters (may take longer time to train)\n",
    "    \n",
    "    OUTPUT:\n",
    "        fitted model\n",
    "    '''\n",
    "\n",
    "    # Extract preprocessed data \n",
    "    X_train, X_test, y_train, y_test = preprocess_data(X, y)\n",
    "\n",
    "    \n",
    "    # Save preprocessed train / test set\n",
    "    cache = {\n",
    "        'X_train': X_train,\n",
    "        'X_test': X_test,\n",
    "        'y_train': y_train,\n",
    "        'y_test': y_test    \n",
    "    }\n",
    "            \n",
    "    # Skip parameter tuning\n",
    "    if param_grid == None:\n",
    "        print('Training without parameter tuning')\n",
    "        final_model = model.fit(X_train, y_train)        \n",
    "        print('Training has been completed.')\n",
    "\n",
    "    # Train the best estimator with parameter tuning                                  \n",
    "    else:\n",
    "        print('Training with parameter tuning. This process may take time upto several minutes.')\n",
    "        gridCV = GridSearchCV(model, param_grid=param_grid, cv=cv, scoring=scoring, verbose=verbose)\n",
    "        gridCV.fit(X_train, y_train) \n",
    "        print('Training has been completed with the best hyperparameters found.', gridCV.best_params_)                                \n",
    "        final_model = gridCV.best_estimator_\n",
    "    \n",
    "    \n",
    "    return final_model, cache"
   ]
  },
  {
   "cell_type": "code",
   "execution_count": 156,
   "metadata": {},
   "outputs": [],
   "source": [
    "# Functions for model evaluation\n",
    "    \n",
    "def model_predict(model, X_test):\n",
    "    ''' Run predictions for a fitted classifer model\n",
    "    \n",
    "    INPUT:\n",
    "        model: a fitted classifer model\n",
    "        X_test: test features used for prediction\n",
    "        \n",
    "    OUTPUT:\n",
    "        y_pred: the predicted target variable\n",
    "        \n",
    "    '''\n",
    "    \n",
    "    # Make predictions\n",
    "    y_pred = model.predict(X_test)\n",
    "    \n",
    "    return y_pred\n",
    "\n",
    "\n",
    "def evaluate_model(y_test, y_pred):\n",
    "    ''' Show test scores for classification as one go\n",
    "    by combining accuracy score and classification report.\n",
    "    \n",
    "    INPUT: \n",
    "        model: the classifier model that fit training sets\n",
    "        y_test: a true y test values\n",
    "        y_pred: a predicted y values\n",
    "        \n",
    "    OUTPUT:\n",
    "        None\n",
    "        \n",
    "    '''\n",
    "       \n",
    "    # Get test scores\n",
    "    print(f'Accuracy score: {accuracy_score(y_test, y_pred) * 100:.2f}%')\n",
    "    print(f'Classfication report:\\n')\n",
    "    print(classification_report(y_test, y_pred))\n",
    "    "
   ]
  },
  {
   "cell_type": "markdown",
   "metadata": {},
   "source": [
    "### 7b. Parameter tuning \n",
    "Grid search may take lots of time. Therefore run random grid search instead. Range of hyperparameters replicate the workflow from the reference following [the link](https://towardsdatascience.com/hyperparameter-tuning-the-random-forest-in-python-using-scikit-learn-28d2aa77dd74).\n",
    "\n",
    "Nonetheless, parameter tuning still takes time. Therefore, in this section, the actual codes were commented out and the tuned best hyperparameters were presented. In order to run the grid search again, uncomment the below code. The below training is made compact with less iterlation and cross validation, but still takes up to 30 minutes (~2 minutes for run of 15 fits)."
   ]
  },
  {
   "cell_type": "code",
   "execution_count": 128,
   "metadata": {},
   "outputs": [
    {
     "name": "stdout",
     "output_type": "stream",
     "text": [
      "Preprocessing data...\n",
      "Oversampling data...\n",
      "Class=3, n=22305 (25.000%)\n",
      "Class=2, n=22305 (25.000%)\n",
      "Class=1, n=22305 (25.000%)\n",
      "Class=4, n=22305 (25.000%)\n"
     ]
    },
    {
     "data": {
      "image/png": "[encoded data removed]",
      "text/plain": [
       "<Figure size 432x288 with 1 Axes>"
      ]
     },
     "metadata": {
      "needs_background": "light"
     },
     "output_type": "display_data"
    }
   ],
   "source": [
    "# # Load the dataset\n",
    "# X, y = load_data_for_modeling()\n",
    "# X_train, X_test, y_train, y_test = preprocess_data(X, y)\n",
    "\n",
    "# # Instantiate the final model - random forest\n",
    "# model = RandomForestClassifier()"
   ]
  },
  {
   "cell_type": "code",
   "execution_count": 133,
   "metadata": {},
   "outputs": [
    {
     "name": "stdout",
     "output_type": "stream",
     "text": [
      "Fitting 3 folds for each of 5 candidates, totalling 15 fits\n",
      "[CV 1/3] END bootstrap=True, max_depth=10, max_features=auto, min_samples_leaf=4, min_samples_split=2, n_estimators=200;, score=0.727 total time=   6.5s\n",
      "[CV 2/3] END bootstrap=True, max_depth=10, max_features=auto, min_samples_leaf=4, min_samples_split=2, n_estimators=200;, score=0.872 total time=   6.5s\n",
      "[CV 3/3] END bootstrap=True, max_depth=10, max_features=auto, min_samples_leaf=4, min_samples_split=2, n_estimators=200;, score=0.868 total time=   6.1s\n",
      "[CV 1/3] END bootstrap=True, max_depth=100, max_features=sqrt, min_samples_leaf=2, min_samples_split=2, n_estimators=1100;, score=0.728 total time=  47.7s\n",
      "[CV 2/3] END bootstrap=True, max_depth=100, max_features=sqrt, min_samples_leaf=2, min_samples_split=2, n_estimators=1100;, score=0.900 total time=  52.8s\n",
      "[CV 3/3] END bootstrap=True, max_depth=100, max_features=sqrt, min_samples_leaf=2, min_samples_split=2, n_estimators=1100;, score=0.902 total time=  53.2s\n",
      "[CV 1/3] END bootstrap=False, max_depth=80, max_features=sqrt, min_samples_leaf=1, min_samples_split=10, n_estimators=1550;, score=0.726 total time= 1.7min\n",
      "[CV 2/3] END bootstrap=False, max_depth=80, max_features=sqrt, min_samples_leaf=1, min_samples_split=10, n_estimators=1550;, score=0.903 total time= 1.9min\n",
      "[CV 3/3] END bootstrap=False, max_depth=80, max_features=sqrt, min_samples_leaf=1, min_samples_split=10, n_estimators=1550;, score=0.905 total time= 2.0min\n",
      "[CV 1/3] END bootstrap=False, max_depth=60, max_features=sqrt, min_samples_leaf=2, min_samples_split=2, n_estimators=1550;, score=0.730 total time= 1.7min\n",
      "[CV 2/3] END bootstrap=False, max_depth=60, max_features=sqrt, min_samples_leaf=2, min_samples_split=2, n_estimators=1550;, score=0.903 total time= 1.8min\n",
      "[CV 3/3] END bootstrap=False, max_depth=60, max_features=sqrt, min_samples_leaf=2, min_samples_split=2, n_estimators=1550;, score=0.906 total time= 1.8min\n",
      "[CV 1/3] END bootstrap=False, max_depth=100, max_features=sqrt, min_samples_leaf=2, min_samples_split=2, n_estimators=1550;, score=0.729 total time= 1.6min\n",
      "[CV 2/3] END bootstrap=False, max_depth=100, max_features=sqrt, min_samples_leaf=2, min_samples_split=2, n_estimators=1550;, score=0.904 total time= 1.8min\n",
      "[CV 3/3] END bootstrap=False, max_depth=100, max_features=sqrt, min_samples_leaf=2, min_samples_split=2, n_estimators=1550;, score=0.905 total time= 1.8min\n",
      "Best params: {'n_estimators': 1550, 'min_samples_split': 2, 'min_samples_leaf': 2, 'max_features': 'sqrt', 'max_depth': 60, 'bootstrap': False}\n"
     ]
    }
   ],
   "source": [
    "# # Uncomment the below code to run the grid search again\n",
    "# # below training takes up to 30 minutes (~2 minutes for run of 15 fits)\n",
    "\n",
    "# # Set hyperparameters\n",
    "\n",
    "# # Number of trees in random forest\n",
    "# n_estimators = [int(x) for x in np.linspace(start = 200, stop = 2000, num = 5)]\n",
    "\n",
    "# # Number of features to consider at every split\n",
    "# max_features = ['auto', 'sqrt']\n",
    "\n",
    "# # Maximum number of levels in tree\n",
    "# max_depth = [int(x) for x in np.linspace(10, 110, num = 11)]\n",
    "# max_depth.append(None)\n",
    "\n",
    "# # Minimum number of samples required to split a node\n",
    "# min_samples_split = [2, 5, 10]\n",
    "\n",
    "# # Minimum number of samples required at each leaf node\n",
    "# min_samples_leaf = [1, 2, 4]\n",
    "\n",
    "# # Method of selecting samples for training each tree\n",
    "# bootstrap = [True, False]\n",
    "\n",
    "# # Create the random grid\n",
    "# param_grid = {'n_estimators': n_estimators,\n",
    "#                'max_features': max_features,\n",
    "#                'max_depth': max_depth,\n",
    "#                'min_samples_split': min_samples_split,\n",
    "#                'min_samples_leaf': min_samples_leaf,\n",
    "#                'bootstrap': bootstrap}\n",
    "\n",
    "\n",
    "# # Randomized grid search\n",
    "\n",
    "# randGridCV = RandomizedSearchCV(model, param_distributions=param_grid, n_iter=5, cv=3, scoring='accuracy', verbose=3)\n",
    "# randGridCV.fit(X_train, y_train)\n",
    "# print('Best params:', randGridCV.best_params_)"
   ]
  },
  {
   "cell_type": "code",
   "execution_count": 142,
   "metadata": {},
   "outputs": [
    {
     "data": {
      "text/plain": [
       "array([0.8224165 , 0.84333109, 0.84460883, 0.84634611, 0.8460659 ])"
      ]
     },
     "execution_count": 142,
     "metadata": {},
     "output_type": "execute_result"
    }
   ],
   "source": [
    "# # Mean test accuracy for each iternation\n",
    "\n",
    "# randGridCV.cv_results_['mean_test_score']"
   ]
  },
  {
   "cell_type": "markdown",
   "metadata": {},
   "source": [
    "The random grid search produced the combination of best hyperparameters as below:\n",
    "\n",
    "    Best params: {'n_estimators': 1550, 'min_samples_split': 2, 'min_samples_leaf': 2, 'max_features': 'sqrt', 'max_depth': 60, 'bootstrap': False}"
   ]
  },
  {
   "cell_type": "code",
   "execution_count": 136,
   "metadata": {},
   "outputs": [
    {
     "name": "stdout",
     "output_type": "stream",
     "text": [
      "Preprocessing data...\n",
      "Oversampling data...\n",
      "Class=3, n=22305 (25.000%)\n",
      "Class=2, n=22305 (25.000%)\n",
      "Class=1, n=22305 (25.000%)\n",
      "Class=4, n=22305 (25.000%)\n"
     ]
    },
    {
     "data": {
      "image/png": "[encoded data removed]",
      "text/plain": [
       "<Figure size 432x288 with 1 Axes>"
      ]
     },
     "metadata": {
      "needs_background": "light"
     },
     "output_type": "display_data"
    },
    {
     "name": "stdout",
     "output_type": "stream",
     "text": [
      "Training without parameter tuning\n",
      "Training has been completed.\n"
     ]
    }
   ],
   "source": [
    "# Build the model \n",
    "# with the best combination of hyperparameters\n",
    "\n",
    "# Instantiate the final model - random forest\n",
    "model = RandomForestClassifier(n_estimators=1550, min_samples_split=2, min_samples_leaf=2, \n",
    "                               max_features='sqrt', max_depth=60, bootstrap=False)\n",
    "\n",
    "# Reload the dataset\n",
    "X, y = load_data_for_modeling()\n",
    "\n",
    "# Build models\n",
    "final_model, cache = build_final_model(model, X, y, param_grid=None)"
   ]
  },
  {
   "cell_type": "code",
   "execution_count": 137,
   "metadata": {},
   "outputs": [],
   "source": [
    "# Make a prediction on train and test set\n",
    "\n",
    "y_pred_train = model_predict(final_model, cache['X_train'])\n",
    "y_pred_test = model_predict(final_model, cache['X_test'])"
   ]
  },
  {
   "cell_type": "code",
   "execution_count": 138,
   "metadata": {},
   "outputs": [
    {
     "name": "stdout",
     "output_type": "stream",
     "text": [
      "Accuracy score: 99.57%\n",
      "Classfication report:\n",
      "\n",
      "              precision    recall  f1-score   support\n",
      "\n",
      "         1.0       1.00      1.00      1.00     22305\n",
      "         2.0       0.99      1.00      0.99     22305\n",
      "         3.0       1.00      1.00      1.00     22305\n",
      "         4.0       1.00      0.99      0.99     22305\n",
      "\n",
      "    accuracy                           1.00     89220\n",
      "   macro avg       1.00      1.00      1.00     89220\n",
      "weighted avg       1.00      1.00      1.00     89220\n",
      "\n",
      "Accuracy score: 76.99%\n",
      "Classfication report:\n",
      "\n",
      "              precision    recall  f1-score   support\n",
      "\n",
      "         1.0       0.80      0.85      0.82      5573\n",
      "         2.0       0.89      0.88      0.89      2203\n",
      "         3.0       0.56      0.47      0.51      1606\n",
      "         4.0       0.68      0.65      0.66      1663\n",
      "\n",
      "    accuracy                           0.77     11045\n",
      "   macro avg       0.73      0.71      0.72     11045\n",
      "weighted avg       0.76      0.77      0.77     11045\n",
      "\n"
     ]
    }
   ],
   "source": [
    "# Evaluate the model performance\n",
    "\n",
    "evaluate_model(cache['y_train'], y_pred_train)\n",
    "evaluate_model(cache['y_test'], y_pred_test)"
   ]
  },
  {
   "cell_type": "markdown",
   "metadata": {},
   "source": [
    "The parameter tuning did not improve the model performance given that the test accuracy stays similar, while the overfitting got worse. Classification for label 3 and 4 still performs poorly on the test set.\n",
    "\n",
    "The earlier random forest with default set up had a test accuracy of 77% and it only had a change in max_depth set to 12. I will try training the model with a set of light-weight hyperparameters (less computation), searched through grid search."
   ]
  },
  {
   "cell_type": "markdown",
   "metadata": {},
   "source": [
    "### 7c. Build the final model"
   ]
  },
  {
   "cell_type": "code",
   "execution_count": 159,
   "metadata": {},
   "outputs": [
    {
     "name": "stdout",
     "output_type": "stream",
     "text": [
      "Preprocessing data...\n",
      "Oversampling data...\n",
      "Class=3, n=22305 (25.000%)\n",
      "Class=2, n=22305 (25.000%)\n",
      "Class=1, n=22305 (25.000%)\n",
      "Class=4, n=22305 (25.000%)\n"
     ]
    },
    {
     "data": {
      "image/png": "[encoded data removed]",
      "text/plain": [
       "<Figure size 432x288 with 1 Axes>"
      ]
     },
     "metadata": {
      "needs_background": "light"
     },
     "output_type": "display_data"
    },
    {
     "name": "stdout",
     "output_type": "stream",
     "text": [
      "Scaler stored at the path: <models/final_model_20220223_scaler>\n",
      "Training with parameter tuning. This process may take time upto several minutes.\n",
      "Fitting 5 folds for each of 24 candidates, totalling 120 fits\n",
      "[CV 1/5] END .......max_depth=2, n_estimators=5;, score=0.672 total time=   0.1s\n",
      "[CV 2/5] END .......max_depth=2, n_estimators=5;, score=0.685 total time=   0.1s\n",
      "[CV 3/5] END .......max_depth=2, n_estimators=5;, score=0.721 total time=   0.1s\n",
      "[CV 4/5] END .......max_depth=2, n_estimators=5;, score=0.680 total time=   0.1s\n",
      "[CV 5/5] END .......max_depth=2, n_estimators=5;, score=0.771 total time=   0.1s\n",
      "[CV 1/5] END ......max_depth=2, n_estimators=10;, score=0.625 total time=   0.2s\n",
      "[CV 2/5] END ......max_depth=2, n_estimators=10;, score=0.768 total time=   0.2s\n",
      "[CV 3/5] END ......max_depth=2, n_estimators=10;, score=0.754 total time=   0.2s\n",
      "[CV 4/5] END ......max_depth=2, n_estimators=10;, score=0.805 total time=   0.2s\n",
      "[CV 5/5] END ......max_depth=2, n_estimators=10;, score=0.703 total time=   0.2s\n",
      "[CV 1/5] END ......max_depth=2, n_estimators=50;, score=0.759 total time=   0.8s\n",
      "[CV 2/5] END ......max_depth=2, n_estimators=50;, score=0.806 total time=   0.8s\n",
      "[CV 3/5] END ......max_depth=2, n_estimators=50;, score=0.811 total time=   0.8s\n",
      "[CV 4/5] END ......max_depth=2, n_estimators=50;, score=0.806 total time=   0.8s\n",
      "[CV 5/5] END ......max_depth=2, n_estimators=50;, score=0.808 total time=   0.8s\n",
      "[CV 1/5] END .....max_depth=2, n_estimators=100;, score=0.759 total time=   1.6s\n",
      "[CV 2/5] END .....max_depth=2, n_estimators=100;, score=0.788 total time=   1.6s\n",
      "[CV 3/5] END .....max_depth=2, n_estimators=100;, score=0.820 total time=   1.6s\n",
      "[CV 4/5] END .....max_depth=2, n_estimators=100;, score=0.807 total time=   1.5s\n",
      "[CV 5/5] END .....max_depth=2, n_estimators=100;, score=0.817 total time=   1.5s\n",
      "[CV 1/5] END .......max_depth=5, n_estimators=5;, score=0.712 total time=   0.1s\n",
      "[CV 2/5] END .......max_depth=5, n_estimators=5;, score=0.806 total time=   0.2s\n",
      "[CV 3/5] END .......max_depth=5, n_estimators=5;, score=0.820 total time=   0.1s\n",
      "[CV 4/5] END .......max_depth=5, n_estimators=5;, score=0.788 total time=   0.1s\n",
      "[CV 5/5] END .......max_depth=5, n_estimators=5;, score=0.798 total time=   0.1s\n",
      "[CV 1/5] END ......max_depth=5, n_estimators=10;, score=0.760 total time=   0.3s\n",
      "[CV 2/5] END ......max_depth=5, n_estimators=10;, score=0.798 total time=   0.3s\n",
      "[CV 3/5] END ......max_depth=5, n_estimators=10;, score=0.830 total time=   0.3s\n",
      "[CV 4/5] END ......max_depth=5, n_estimators=10;, score=0.819 total time=   0.2s\n",
      "[CV 5/5] END ......max_depth=5, n_estimators=10;, score=0.830 total time=   0.3s\n",
      "[CV 1/5] END ......max_depth=5, n_estimators=50;, score=0.761 total time=   1.2s\n",
      "[CV 2/5] END ......max_depth=5, n_estimators=50;, score=0.809 total time=   1.3s\n",
      "[CV 3/5] END ......max_depth=5, n_estimators=50;, score=0.828 total time=   1.3s\n",
      "[CV 4/5] END ......max_depth=5, n_estimators=50;, score=0.819 total time=   1.3s\n",
      "[CV 5/5] END ......max_depth=5, n_estimators=50;, score=0.835 total time=   1.3s\n",
      "[CV 1/5] END .....max_depth=5, n_estimators=100;, score=0.751 total time=   2.6s\n",
      "[CV 2/5] END .....max_depth=5, n_estimators=100;, score=0.805 total time=   2.6s\n",
      "[CV 3/5] END .....max_depth=5, n_estimators=100;, score=0.834 total time=   2.5s\n",
      "[CV 4/5] END .....max_depth=5, n_estimators=100;, score=0.836 total time=   2.6s\n",
      "[CV 5/5] END .....max_depth=5, n_estimators=100;, score=0.831 total time=   2.5s\n",
      "[CV 1/5] END ......max_depth=10, n_estimators=5;, score=0.732 total time=   0.2s\n",
      "[CV 2/5] END ......max_depth=10, n_estimators=5;, score=0.814 total time=   0.2s\n",
      "[CV 3/5] END ......max_depth=10, n_estimators=5;, score=0.868 total time=   0.2s\n",
      "[CV 4/5] END ......max_depth=10, n_estimators=5;, score=0.869 total time=   0.2s\n",
      "[CV 5/5] END ......max_depth=10, n_estimators=5;, score=0.869 total time=   0.2s\n",
      "[CV 1/5] END .....max_depth=10, n_estimators=10;, score=0.730 total time=   0.4s\n",
      "[CV 2/5] END .....max_depth=10, n_estimators=10;, score=0.819 total time=   0.4s\n",
      "[CV 3/5] END .....max_depth=10, n_estimators=10;, score=0.873 total time=   0.4s\n",
      "[CV 4/5] END .....max_depth=10, n_estimators=10;, score=0.871 total time=   0.4s\n",
      "[CV 5/5] END .....max_depth=10, n_estimators=10;, score=0.872 total time=   0.4s\n",
      "[CV 1/5] END .....max_depth=10, n_estimators=50;, score=0.737 total time=   1.9s\n",
      "[CV 2/5] END .....max_depth=10, n_estimators=50;, score=0.821 total time=   1.8s\n",
      "[CV 3/5] END .....max_depth=10, n_estimators=50;, score=0.877 total time=   1.8s\n",
      "[CV 4/5] END .....max_depth=10, n_estimators=50;, score=0.871 total time=   1.8s\n",
      "[CV 5/5] END .....max_depth=10, n_estimators=50;, score=0.872 total time=   1.8s\n",
      "[CV 1/5] END ....max_depth=10, n_estimators=100;, score=0.737 total time=   3.7s\n",
      "[CV 2/5] END ....max_depth=10, n_estimators=100;, score=0.822 total time=   3.6s\n",
      "[CV 3/5] END ....max_depth=10, n_estimators=100;, score=0.874 total time=   3.7s\n",
      "[CV 4/5] END ....max_depth=10, n_estimators=100;, score=0.868 total time=   3.6s\n",
      "[CV 5/5] END ....max_depth=10, n_estimators=100;, score=0.872 total time=   3.6s\n",
      "[CV 1/5] END ......max_depth=15, n_estimators=5;, score=0.717 total time=   0.3s\n",
      "[CV 2/5] END ......max_depth=15, n_estimators=5;, score=0.821 total time=   0.3s\n",
      "[CV 3/5] END ......max_depth=15, n_estimators=5;, score=0.889 total time=   0.2s\n",
      "[CV 4/5] END ......max_depth=15, n_estimators=5;, score=0.885 total time=   0.2s\n",
      "[CV 5/5] END ......max_depth=15, n_estimators=5;, score=0.887 total time=   0.3s\n",
      "[CV 1/5] END .....max_depth=15, n_estimators=10;, score=0.722 total time=   0.5s\n",
      "[CV 2/5] END .....max_depth=15, n_estimators=10;, score=0.824 total time=   0.5s\n",
      "[CV 3/5] END .....max_depth=15, n_estimators=10;, score=0.890 total time=   0.5s\n",
      "[CV 4/5] END .....max_depth=15, n_estimators=10;, score=0.886 total time=   0.5s\n",
      "[CV 5/5] END .....max_depth=15, n_estimators=10;, score=0.891 total time=   0.5s\n",
      "[CV 1/5] END .....max_depth=15, n_estimators=50;, score=0.723 total time=   2.4s\n",
      "[CV 2/5] END .....max_depth=15, n_estimators=50;, score=0.828 total time=   2.4s\n",
      "[CV 3/5] END .....max_depth=15, n_estimators=50;, score=0.892 total time=   2.4s\n",
      "[CV 4/5] END .....max_depth=15, n_estimators=50;, score=0.891 total time=   2.4s\n",
      "[CV 5/5] END .....max_depth=15, n_estimators=50;, score=0.893 total time=   2.4s\n",
      "[CV 1/5] END ....max_depth=15, n_estimators=100;, score=0.725 total time=   4.7s\n",
      "[CV 2/5] END ....max_depth=15, n_estimators=100;, score=0.828 total time=   4.8s\n",
      "[CV 3/5] END ....max_depth=15, n_estimators=100;, score=0.895 total time=   4.7s\n",
      "[CV 4/5] END ....max_depth=15, n_estimators=100;, score=0.892 total time=   4.7s\n",
      "[CV 5/5] END ....max_depth=15, n_estimators=100;, score=0.893 total time=   4.7s\n",
      "[CV 1/5] END ......max_depth=20, n_estimators=5;, score=0.718 total time=   0.3s\n",
      "[CV 2/5] END ......max_depth=20, n_estimators=5;, score=0.820 total time=   0.3s\n",
      "[CV 3/5] END ......max_depth=20, n_estimators=5;, score=0.895 total time=   0.3s\n",
      "[CV 4/5] END ......max_depth=20, n_estimators=5;, score=0.890 total time=   0.3s\n",
      "[CV 5/5] END ......max_depth=20, n_estimators=5;, score=0.893 total time=   0.3s\n",
      "[CV 1/5] END .....max_depth=20, n_estimators=10;, score=0.718 total time=   0.5s\n",
      "[CV 2/5] END .....max_depth=20, n_estimators=10;, score=0.824 total time=   0.6s\n",
      "[CV 3/5] END .....max_depth=20, n_estimators=10;, score=0.899 total time=   0.6s\n",
      "[CV 4/5] END .....max_depth=20, n_estimators=10;, score=0.897 total time=   0.6s\n",
      "[CV 5/5] END .....max_depth=20, n_estimators=10;, score=0.898 total time=   0.6s\n",
      "[CV 1/5] END .....max_depth=20, n_estimators=50;, score=0.727 total time=   2.7s\n",
      "[CV 2/5] END .....max_depth=20, n_estimators=50;, score=0.834 total time=   2.7s\n",
      "[CV 3/5] END .....max_depth=20, n_estimators=50;, score=0.908 total time=   2.8s\n",
      "[CV 4/5] END .....max_depth=20, n_estimators=50;, score=0.903 total time=   2.8s\n",
      "[CV 5/5] END .....max_depth=20, n_estimators=50;, score=0.904 total time=   2.7s\n",
      "[CV 1/5] END ....max_depth=20, n_estimators=100;, score=0.728 total time=   5.3s\n",
      "[CV 2/5] END ....max_depth=20, n_estimators=100;, score=0.835 total time=   5.5s\n",
      "[CV 3/5] END ....max_depth=20, n_estimators=100;, score=0.907 total time=   5.5s\n",
      "[CV 4/5] END ....max_depth=20, n_estimators=100;, score=0.903 total time=   5.5s\n",
      "[CV 5/5] END ....max_depth=20, n_estimators=100;, score=0.907 total time=   5.5s\n",
      "[CV 1/5] END ......max_depth=25, n_estimators=5;, score=0.714 total time=   0.3s\n",
      "[CV 2/5] END ......max_depth=25, n_estimators=5;, score=0.820 total time=   0.3s\n",
      "[CV 3/5] END ......max_depth=25, n_estimators=5;, score=0.893 total time=   0.3s\n",
      "[CV 4/5] END ......max_depth=25, n_estimators=5;, score=0.885 total time=   0.3s\n",
      "[CV 5/5] END ......max_depth=25, n_estimators=5;, score=0.891 total time=   0.3s\n",
      "[CV 1/5] END .....max_depth=25, n_estimators=10;, score=0.714 total time=   0.6s\n",
      "[CV 2/5] END .....max_depth=25, n_estimators=10;, score=0.826 total time=   0.6s\n",
      "[CV 3/5] END .....max_depth=25, n_estimators=10;, score=0.902 total time=   0.6s\n",
      "[CV 4/5] END .....max_depth=25, n_estimators=10;, score=0.903 total time=   0.6s\n",
      "[CV 5/5] END .....max_depth=25, n_estimators=10;, score=0.902 total time=   0.6s\n",
      "[CV 1/5] END .....max_depth=25, n_estimators=50;, score=0.729 total time=   2.8s\n",
      "[CV 2/5] END .....max_depth=25, n_estimators=50;, score=0.832 total time=   2.9s\n",
      "[CV 3/5] END .....max_depth=25, n_estimators=50;, score=0.911 total time=   2.9s\n",
      "[CV 4/5] END .....max_depth=25, n_estimators=50;, score=0.905 total time=   3.0s\n",
      "[CV 5/5] END .....max_depth=25, n_estimators=50;, score=0.908 total time=   3.0s\n",
      "[CV 1/5] END ....max_depth=25, n_estimators=100;, score=0.727 total time=   5.6s\n",
      "[CV 2/5] END ....max_depth=25, n_estimators=100;, score=0.836 total time=   5.8s\n",
      "[CV 3/5] END ....max_depth=25, n_estimators=100;, score=0.910 total time=   5.9s\n",
      "[CV 4/5] END ....max_depth=25, n_estimators=100;, score=0.907 total time=   5.9s\n",
      "[CV 5/5] END ....max_depth=25, n_estimators=100;, score=0.910 total time=   5.9s\n",
      "Training has been completed with the best hyperparameters found. {'max_depth': 25, 'n_estimators': 100}\n"
     ]
    }
   ],
   "source": [
    "# Rebuild the final model\n",
    " \n",
    "# Instantiate the final model - random forest\n",
    "model = RandomForestClassifier()\n",
    "\n",
    "# Reload the dataset\n",
    "X, y = load_data_for_modeling()\n",
    "\n",
    "# Set params\n",
    "param_grid = {\n",
    "    'max_depth': [2, 5, 10, 15, 20, 25],\n",
    "    'n_estimators': [5, 10, 50, 100]\n",
    "}\n",
    "\n",
    "# Build models\n",
    "final_model, cache = build_final_model(model, X, y, param_grid=param_grid, verbose=3)"
   ]
  },
  {
   "cell_type": "code",
   "execution_count": 160,
   "metadata": {},
   "outputs": [],
   "source": [
    "# Make a prediction on train and test set\n",
    "\n",
    "y_pred_train = model_predict(final_model, cache['X_train'])\n",
    "y_pred_test = model_predict(final_model, cache['X_test'])"
   ]
  },
  {
   "cell_type": "code",
   "execution_count": 161,
   "metadata": {},
   "outputs": [
    {
     "name": "stdout",
     "output_type": "stream",
     "text": [
      "Accuracy score: 99.63%\n",
      "Classfication report:\n",
      "\n",
      "              precision    recall  f1-score   support\n",
      "\n",
      "         1.0       0.99      1.00      0.99     22305\n",
      "         2.0       1.00      1.00      1.00     22305\n",
      "         3.0       1.00      0.99      0.99     22305\n",
      "         4.0       1.00      1.00      1.00     22305\n",
      "\n",
      "    accuracy                           1.00     89220\n",
      "   macro avg       1.00      1.00      1.00     89220\n",
      "weighted avg       1.00      1.00      1.00     89220\n",
      "\n",
      "Accuracy score: 77.04%\n",
      "Classfication report:\n",
      "\n",
      "              precision    recall  f1-score   support\n",
      "\n",
      "         1.0       0.80      0.84      0.82      5573\n",
      "         2.0       0.89      0.88      0.89      2203\n",
      "         3.0       0.56      0.49      0.52      1606\n",
      "         4.0       0.68      0.65      0.67      1663\n",
      "\n",
      "    accuracy                           0.77     11045\n",
      "   macro avg       0.73      0.72      0.72     11045\n",
      "weighted avg       0.77      0.77      0.77     11045\n",
      "\n"
     ]
    }
   ],
   "source": [
    "# Evaluate the model performance\n",
    "\n",
    "evaluate_model(cache['y_train'], y_pred_train)\n",
    "evaluate_model(cache['y_test'], y_pred_test)"
   ]
  },
  {
   "cell_type": "markdown",
   "metadata": {},
   "source": [
    "The final model was trained with a new set of light-weight hyperwparameters. The model fits perfectly on the training set so the model complexity is fine. However, the accuracy on the out of bag data stays 77% - no noticeable improvement when compared with the earlier trainings.\n",
    "\n",
    "However, what is encouraging is the model predicts label 1.0 and 2.0 quite well considering F1-score higher than 80%. In other words, this classification model would work fine to tell if a potential customer will complete an offer or not, which is the original objective of this project. The limitation is when conducting a granular analysis for incomplete offers. For example, the model may not so precise in telling if customers actually viewed an offer or made a purchase when they didn't activate offers. \n",
    "\n",
    "1. complete\n",
    "2. inactive : incomplete, no purchase after offer viewed\n",
    "3. active : incomplete, but purchased without offer viewed\n",
    "4. indifferent: incomplete, no purchase no view\n",
    "\n",
    "Recall that we haven't used a lots data with unsent offers (93,028 records, vs 55,222 used for the training). Therefore, I suggest that we make predictions on these out of bag data for the next round of offer distributions. Then, a new model could be built with more data records, which might help improve the model performance to more granular level and overfitting issues."
   ]
  },
  {
   "cell_type": "markdown",
   "metadata": {},
   "source": [
    "### 7d. Store the final model"
   ]
  },
  {
   "cell_type": "code",
   "execution_count": 162,
   "metadata": {},
   "outputs": [
    {
     "name": "stdout",
     "output_type": "stream",
     "text": [
      "20220223\n"
     ]
    }
   ],
   "source": [
    "# Date of build for the model name\n",
    "\n",
    "date_built = datetime.date.today()\n",
    "date_built = datetime.datetime.strftime(date_built, format='%Y-%m-%d').replace('-', '')\n",
    "print(date_built)"
   ]
  },
  {
   "cell_type": "code",
   "execution_count": 163,
   "metadata": {},
   "outputs": [],
   "source": [
    "# Save the final model and train/set set\n",
    "with open(f'models/final_model_{date_built}', 'wb') as model_pkl:\n",
    "    pickle.dump(final_model, model_pkl)\n",
    "    \n",
    "# Save the final model and train/set set\n",
    "with open(f'models/final_model_{date_built}_cache', 'wb') as data_pkl:\n",
    "    pickle.dump(cache, data_pkl)"
   ]
  },
  {
   "cell_type": "markdown",
   "metadata": {
    "tags": []
   },
   "source": [
    "---\n",
    "<a id=\"conclude\"></a>\n",
    "## SECTION 8 Conclusion\n",
    "\n",
    "To this point, we performed exploratory analysis on individual and trained machine learning classification models. We aimed to find how customers have interacted with differnt offers and finally to predict if offers will lead to completion given a combination of offer types, distributed channels and customer demographics. "
   ]
  },
  {
   "cell_type": "markdown",
   "metadata": {},
   "source": [
    "### Insights on offer completion \n",
    "\n",
    "#### Offers\n",
    "\n",
    "Offers were grouped into three categories: bogo, discount and informational. bogo and discount are transactional following the below funnel and offers are considered completion if customers were activate at all stages : \n",
    "   \n",
    "   > offer received -> offer viewed -> purchased -> offer completed\n",
    "\n",
    "- Of those offers sent, 47% were copmleted indicating that customers viewed offers and made purchases (bogo / disount) or were made aware of offers (informational).\n",
    "- Amongst the three offer categories, discount offers are the most difficult to redeem (on average 11.75) but have the longest duration allowing customers to be interacted and influenced the most.\n",
    "- Two transactional offers marked above 60% completion rate and they both fall into discount category. Although these two offers are more difficult to redeem (and less rewards given), they have higher duration and wider distribution across all existing channels so customers had more chances to interact and be influenced.\n",
    "        \n",
    "In the meantime, informational offers are considered compelted when customers received and viewed offers (as they do not lead to transactions).\n",
    "    \n",
    "- The two informational offers named as **info000003** and **info000004** recorded high completion rate above 60%. Especially, **info000003** showed the highest completion rate (around 90%) despite a slightly shorter duration than the other. It was found that this different may come from communication channels: other than email and mobile, **info000003** distributed on social media as opposed web that **info000004** used.\n",
    "\n",
    "#### Channels\n",
    "- Regardless of offer type, email is always used  \n",
    "- It is more likely to increase the completion when more channels are used\n",
    "- Across all offer types, using social media led to more completion\n",
    "\n",
    "#### Demographics\n",
    "\n",
    "- Female customers have slighly higher completion rate than male customers (53% vs 45%).\n",
    "- Offer completion rate is lower than 50% for age groups below 50.\n",
    "- Income groups bewteen 80k and 100k have the highest completion rate (60%). It marked at least 40% completion rate across all income groups.\n"
   ]
  },
  {
   "cell_type": "markdown",
   "metadata": {},
   "source": [
    "\n",
    "### Model results\n",
    "\n",
    "\n",
    "There are 5 possible behaviours identified through the funnels and each will be labeled as following.\n",
    "\n",
    "1. complete\n",
    "2. inactive : incomplete, no purchase after offer viewed\n",
    "3. active   : incomplete, but purchased without offer viewed\n",
    "4. indifferent: incomplete, no purchase no view\n",
    "5. not received \n",
    "\n",
    "For this analysis, label 5 (not received) is not considered as it does show describe customer behaviours on completion at all.\n"
   ]
  },
  {
   "cell_type": "markdown",
   "metadata": {},
   "source": [
    "The final model used random forest classifier, and was built using grid search to find the best combination of hyperparameters.\n",
    "\n",
    "The training accuracy reached 99% whereas the test accuracy stayed at 77%. The near perfect train accuracy score tells that the model complexity is enough. However, the model is not ideally generalized when predicting out of bag data. \n",
    "\n",
    "The model, however, predicts the completion fairly well. However, it does not sufficiently provide more granular analysis on incomplete offers - whether customers actually viewed an offer / made a purchase when offers were not activated. \n",
    "\n",
    "Given that the original dataset contains lots of unsent offers, I suggest that we re-utilize these out of bag data - by sending across offers to those customers who likely complete the offers, and gain more insights. The new set of insights will then be trained with another round modeling using a similar workflow presented in this notebook.\n",
    "\n",
    "Pratically speaking, the costs of offer distribution might not be too significant when leveraging the existing digital medium (social, web, email and mobile)."
   ]
  },
  {
   "cell_type": "markdown",
   "metadata": {
    "tags": []
   },
   "source": [
    "### Handling unsent offers \n",
    "\n",
    "63% of them are labeled unsent possibly because the previous business decisions identified that some offers would not match customers with certain characterstics, resources(time, costs, etc.) were limited or just by chance.\n",
    "\n",
    "Therefore, in this conclusion section, we would also like to apply our classifier model to those offers unsent and find opportunities for any future promotional activites."
   ]
  },
  {
   "cell_type": "code",
   "execution_count": 148,
   "metadata": {},
   "outputs": [
    {
     "name": "stdout",
     "output_type": "stream",
     "text": [
      "Out of bag data size: 93028\n"
     ]
    }
   ],
   "source": [
    "# Reload the final dataset\n",
    "\n",
    "df = pd.read_csv('data/starbucks_data_final.csv')\n",
    "\n",
    "# Get the out of bag data (offer unsent)\n",
    "oob_set = df.query('label == 5')\n",
    "print('Out of bag data size:', oob_set.shape[0])\n",
    "\n",
    "X = oob_set.drop(columns='label')\n",
    "y = oob_set['label']"
   ]
  },
  {
   "cell_type": "code",
   "execution_count": 149,
   "metadata": {},
   "outputs": [
    {
     "name": "stdout",
     "output_type": "stream",
     "text": [
      "<class 'pandas.core.frame.DataFrame'>\n",
      "Int64Index: 93028 entries, 0 to 148248\n",
      "Data columns (total 15 columns):\n",
      " #   Column         Non-Null Count  Dtype  \n",
      "---  ------         --------------  -----  \n",
      " 0   amount         93028 non-null  float64\n",
      " 1   reward         93028 non-null  float64\n",
      " 2   age            93028 non-null  float64\n",
      " 3   income         93028 non-null  float64\n",
      " 4   difficulty     93028 non-null  int64  \n",
      " 5   duration       93028 non-null  int64  \n",
      " 6   web            93028 non-null  int64  \n",
      " 7   email          93028 non-null  int64  \n",
      " 8   social         93028 non-null  int64  \n",
      " 9   mobile         93028 non-null  int64  \n",
      " 10  gender_male    93028 non-null  int64  \n",
      " 11  gender_other   93028 non-null  int64  \n",
      " 12  discount       93028 non-null  int64  \n",
      " 13  informational  93028 non-null  int64  \n",
      " 14  recency        93028 non-null  int64  \n",
      "dtypes: float64(4), int64(11)\n",
      "memory usage: 11.4 MB\n"
     ]
    }
   ],
   "source": [
    "X.info()"
   ]
  },
  {
   "cell_type": "markdown",
   "metadata": {},
   "source": [
    "The out of bag data do not need the entire preprocessing methods used for modeling. For example, splitting train/test set or oversampling is not ncessary. Rescaling will be helpful to standardize ranges and units of values."
   ]
  },
  {
   "cell_type": "code",
   "execution_count": 170,
   "metadata": {},
   "outputs": [],
   "source": [
    "# Load scaler\n",
    "\n",
    "with open('models/final_model_20220223_scaler', 'rb') as scaler_pkl:\n",
    "    scaler = pickle.load(scaler_pkl)\n",
    "    \n",
    "# Load model\n",
    "\n",
    "with open('models/final_model_20220223', 'rb') as model_pkl:\n",
    "    model = pickle.load(model_pkl)    "
   ]
  },
  {
   "cell_type": "code",
   "execution_count": 171,
   "metadata": {},
   "outputs": [],
   "source": [
    "# Scale the out of bag predictors\n",
    "\n",
    "X_scaled = scaler.transform(X)"
   ]
  },
  {
   "cell_type": "code",
   "execution_count": 189,
   "metadata": {},
   "outputs": [
    {
     "name": "stdout",
     "output_type": "stream",
     "text": [
      "Number of predicted labels: 55222\n",
      "Counts: Counter({1.0: 28265, 2.0: 10930, 4.0: 8230, 3.0: 7797})\n"
     ]
    }
   ],
   "source": [
    "# Make predictions for offer completion\n",
    "\n",
    "predictions = model.predict(X_scaled)\n",
    "print('Number of predicted labels:', len(predictions))\n",
    "print('Counts:', Counter(predictions))"
   ]
  },
  {
   "cell_type": "code",
   "execution_count": 190,
   "metadata": {},
   "outputs": [
    {
     "data": {
      "image/png": "[encoded data removed]",
      "text/plain": [
       "<Figure size 432x288 with 1 Axes>"
      ]
     },
     "metadata": {
      "needs_background": "light"
     },
     "output_type": "display_data"
    }
   ],
   "source": [
    "# Plot the predicted labels\n",
    "\n",
    "sns.countplot(x=predictions)\n",
    "plt.xlabel('label')\n",
    "plt.show()"
   ]
  },
  {
   "cell_type": "markdown",
   "metadata": {},
   "source": [
    "Recall label description:\n",
    "\n",
    "1. complete\n",
    "2. inactive : incomplete, no purchase after offer viewed\n",
    "3. active : incomplete, but purchased without offer viewed\n",
    "4. indifferent: incomplete, no purchase no view"
   ]
  },
  {
   "cell_type": "markdown",
   "metadata": {},
   "source": [
    "Over 28265 out of 55222 (51%) unsent offers are likely to be completed (F1-score for the final model : 82%). This gives us an opportunity to drive more offer completions leading to the increase in purchase or informational promotion. Also, the data gather through the future distribution would be used to improve the model performance."
   ]
  },
  {
   "cell_type": "markdown",
   "metadata": {},
   "source": [
    "---\n",
    "\n",
    "<a id=\"bottom\"></a>\n",
    "Thank you for reading. This is the end of this notebook. <br> Click [here](#top) to move up to the beginning."
   ]
  }
 ],
 "metadata": {
  "kernelspec": {
   "display_name": "Python 3",
   "language": "python",
   "name": "python3"
  },
  "language_info": {
   "codemirror_mode": {
    "name": "ipython",
    "version": 3
   },
   "file_extension": ".py",
   "mimetype": "text/x-python",
   "name": "python",
   "nbconvert_exporter": "python",
   "pygments_lexer": "ipython3",
   "version": "3.8.8"
  }
 },
 "nbformat": 4,
 "nbformat_minor": 4
}
